{
 "cells": [
  {
   "cell_type": "markdown",
   "metadata": {},
   "source": [
    "## Visually inspected analysis"
   ]
  },
  {
   "cell_type": "code",
   "execution_count": 107,
   "metadata": {},
   "outputs": [],
   "source": [
    "import os\n",
    "import sys\n",
    "import glob\n",
    "from pathlib import Path\n",
    "import numpy as np\n",
    "import matplotlib.pyplot as plt\n",
    "import nbimporter\n",
    "from utility.utility import *\n",
    "from utility.algorithm import *\n",
    "from tqdm import tqdm\n",
    "from scipy.signal import find_peaks"
   ]
  },
  {
   "cell_type": "code",
   "execution_count": 108,
   "metadata": {},
   "outputs": [],
   "source": [
    "def import_files(path, dtype):\n",
    "    '''\n",
    "    Import files in the syntax that I used in the notebook. That is, choose the path that contains\n",
    "    all the files, then obtain all dat and inf files as dictionaries that can be accessed by filename. \n",
    "    '''\n",
    "\n",
    "    filename = \"*.dat\"\n",
    "    files =  [ p for p in Path(path).glob(filename) ]\n",
    "    file_dict = dict()\n",
    "    for file in files:\n",
    "        with open(file, 'rb') as f:\n",
    "            # key of the dict is the filename, value the data.\n",
    "            file_dict[os.path.basename(file)] = np.fromfile(f, np.float32)\n",
    "\n",
    "    metadata_dict = dict()\n",
    "    filename = \"*.inf\"\n",
    "    files =  [ p for p in Path(path).glob(filename) ]\n",
    "    for file in files:\n",
    "        with open(file) as f:\n",
    "            metadata_dict[os.path.basename(file)] = f.readlines()\n",
    "\n",
    "    return file_dict, metadata_dict \n",
    "\n",
    "dataset_dat = 'L83080_SAP0_BEAM0_DM39.66.dat'\n",
    "dataset_inf = 'L83080_SAP0_BEAM0_DM39.66.inf'\n",
    "\n",
    "# skipped datasets: 61, 78"
   ]
  },
  {
   "cell_type": "code",
   "execution_count": 109,
   "metadata": {},
   "outputs": [],
   "source": [
    "data_dict, metadata_dict = import_files(path=\"../../LOFAR_2e_jaars_RP_2022_voor_studenten/Data_Pulsar2\", dtype=\"float32\")\n",
    "nbins_dict = dict()\n",
    "dt_dict = dict()\n",
    "mjd_dict = dict()\n",
    "for key, val in metadata_dict.items():\n",
    "    nbins_dict[key] = int(get_metadata_item(metadata_dict[key], 'Number of bins in the time series'))\n",
    "    dt_dict[key] = float(get_metadata_item(metadata_dict[key], 'Width of each time series bin (sec)'))\n",
    "    mjd_dict[key] = float(get_metadata_item(metadata_dict[key], 'Epoch of observation (MJD)'))"
   ]
  },
  {
   "cell_type": "code",
   "execution_count": 110,
   "metadata": {},
   "outputs": [
    {
     "name": "stdout",
     "output_type": "stream",
     "text": [
      "2.04799998755334e-05\n",
      "8800000\n",
      "56300.45492639893\n"
     ]
    }
   ],
   "source": [
    "dt = list(dt_dict.values())[0]\n",
    "nbins = list(nbins_dict.values())[0]\n",
    "MJD = mjd_dict['L83080_SAP0_BEAM0_DM39.66.inf']\n",
    "print( dt )\n",
    "print( nbins )\n",
    "print(MJD)"
   ]
  },
  {
   "cell_type": "code",
   "execution_count": 111,
   "metadata": {},
   "outputs": [],
   "source": [
    "first_dataset = np.array(data_dict[dataset_dat])\n",
    "first_metadataset = metadata_dict[dataset_inf]"
   ]
  },
  {
   "cell_type": "code",
   "execution_count": 112,
   "metadata": {},
   "outputs": [],
   "source": [
    "dt = list(dt_dict.values())[0]\n",
    "nbins = list(nbins_dict.values())[0]\n",
    "\n",
    "frequencies_first_dataset  = np.fft.fftfreq(nbins, dt)[1:]\n",
    "transform_first_dataset = np.abs(np.fft.fft(first_dataset) / len(first_dataset))[1:]\n",
    "#half_index = int(len(transform_first_dataset)/2)\n",
    "#transform_first_dataset = transform_first_dataset[0:half_index]"
   ]
  },
  {
   "cell_type": "code",
   "execution_count": 113,
   "metadata": {},
   "outputs": [
    {
     "data": {
      "text/plain": [
       "[<matplotlib.lines.Line2D at 0x219104f6970>]"
      ]
     },
     "execution_count": 113,
     "metadata": {},
     "output_type": "execute_result"
    },
    {
     "data": {
      "image/png": "[encoded data removed]",
      "text/plain": [
       "<Figure size 432x288 with 1 Axes>"
      ]
     },
     "metadata": {
      "needs_background": "light"
     },
     "output_type": "display_data"
    }
   ],
   "source": [
    "plt.plot(transform_first_dataset)"
   ]
  },
  {
   "cell_type": "code",
   "execution_count": 114,
   "metadata": {},
   "outputs": [
    {
     "name": "stderr",
     "output_type": "stream",
     "text": [
      "100%|██████████| 56/56 [00:00<00:00, 54598.10it/s]\n"
     ]
    }
   ],
   "source": [
    "height_threshold = 2 # Just reading off an appropriate value from the graph\n",
    "distance_between_peaks = 500\n",
    "peaks_index, properties = find_peaks(transform_first_dataset, height=height_threshold, distance=distance_between_peaks)\n",
    "peak_frequencies = [frequencies_first_dataset[i] for i in tqdm(peaks_index)]"
   ]
  },
  {
   "cell_type": "code",
   "execution_count": 115,
   "metadata": {},
   "outputs": [],
   "source": [
    "nharmonics = 5\n",
    "max_amplitudes = n_max_intensities(properties[\"peak_heights\"], n=(2 * nharmonics)) # 2x since the graph is symmetric.\n",
    "harmonics = n_max_frequencies( frequencies_first_dataset, transform_first_dataset,  max_amplitudes)"
   ]
  },
  {
   "cell_type": "code",
   "execution_count": 116,
   "metadata": {},
   "outputs": [
    {
     "data": {
      "text/plain": [
       "[<matplotlib.lines.Line2D at 0x21910558af0>,\n",
       " <matplotlib.lines.Line2D at 0x21910558c40>]"
      ]
     },
     "execution_count": 116,
     "metadata": {},
     "output_type": "execute_result"
    },
    {
     "data": {
      "image/png": "[encoded data removed]",
      "text/plain": [
       "<Figure size 432x288 with 1 Axes>"
      ]
     },
     "metadata": {
      "needs_background": "light"
     },
     "output_type": "display_data"
    }
   ],
   "source": [
    "# Just change the height threshold above if we want less peaks to be marked.\n",
    "plt.clf()\n",
    "plt.plot(frequencies_first_dataset, transform_first_dataset,'-', harmonics, max_amplitudes,'x')"
   ]
  },
  {
   "cell_type": "code",
   "execution_count": 117,
   "metadata": {},
   "outputs": [
    {
     "name": "stdout",
     "output_type": "stream",
     "text": [
      "0.027743253009517896\n",
      "2.8464577587765363\n",
      "6.669478023488103\n",
      "48.245516983551624\n",
      "93.33385177462011\n",
      "116.33300851951044\n",
      "185.33047875418146\n",
      "208.3296354990718\n",
      "231.32879224396214\n",
      "277.3271057337428\n",
      "323.32541922352345\n",
      "370.6609575083629\n",
      "393.66011425325325\n",
      "416.6592709981436\n",
      "601.3849468367175\n",
      "693.9863767318864\n",
      "799.9822491800505\n",
      "1018.6490207504686\n",
      "1202.769893673435\n",
      "1804.1603891607547\n",
      "2399.924552937744\n",
      "2405.545335997472\n",
      "3006.9302828341897\n",
      "3608.3152296709072\n",
      "4209.705725158226\n",
      "4799.860203176691\n",
      "7197.753949994139\n",
      "7201.748978427509\n",
      "-7201.748978427509\n",
      "-7197.753949994139\n",
      "-4799.860203176691\n",
      "-4209.705725158226\n",
      "-3608.3152296709072\n",
      "-3006.9302828341897\n",
      "-2405.545335997472\n",
      "-2399.924552937744\n",
      "-1804.1603891607547\n",
      "-1202.769893673435\n",
      "-1018.6490207504686\n",
      "-799.9822491800505\n",
      "-693.9863767318864\n",
      "-601.3849468367175\n",
      "-416.6592709981436\n",
      "-393.66011425325325\n",
      "-370.6609575083629\n",
      "-323.32541922352345\n",
      "-277.3271057337428\n",
      "-231.32879224396214\n",
      "-208.3296354990718\n",
      "-185.33047875418146\n",
      "-116.33300851951044\n",
      "-93.33385177462011\n",
      "-48.245516983551624\n",
      "-6.669478023488103\n",
      "-2.8464577587765363\n",
      "-0.027743253009517896\n",
      "Julian day (modified): 56300.45492639893\n"
     ]
    }
   ],
   "source": [
    "for peak in peak_frequencies:\n",
    "    print(peak)\n",
    "\n",
    "print('Julian day (modified):', MJD)"
   ]
  },
  {
   "cell_type": "code",
   "execution_count": 118,
   "metadata": {},
   "outputs": [
    {
     "name": "stdout",
     "output_type": "stream",
     "text": [
      "11\n",
      "11\n",
      "[0.0016627364046931813, 0.0016627953391468015, 0.0016633109334621597, 0.0016628308808149732, 0.0016628131097909664, 0.0016627767166011553, 0.0016627310867354046, 0.0016626928137830803, 0.0016626764262373586, 0.0016626879562865453, 0.001662710837899844]\n",
      "[56299.364628335425, 56300.48270470806, 56300.45492639893, 56300.44103724313, 56300.42714808649, 56300.413258929024, 56300.39936977075, 56300.38548061164, 56300.37159145176, 56300.35770229113, 56300.34381312978]\n"
     ]
    }
   ],
   "source": [
    "# found peaks:\n",
    "periods_datasets = []\n",
    "\n",
    "#29\n",
    "frequencies1 = [601.418238740329, (1202.836477480658/2), (1804.254716220987/3), (2405.672954961316/4), (3007.091193701645/5), (3608.509432441974/6)]\n",
    "period1 = 1/(np.mean(frequencies1))\n",
    "periods_datasets.append(period1)\n",
    "#79\n",
    "frequencies2 = [601.3960441379214, (1202.7920882758428/2), (1804.193681064366/3), (2405.5897252022874/4), (3006.9857693402087/5), (3608.38181347813/6)]\n",
    "period2 = 1/(np.mean(frequencies2))\n",
    "periods_datasets.append(period2)\n",
    "#80\n",
    "frequencies3 = [601.3849468367175, (1202.769893673435/2), (1804.1603891607547/3), (2405.545335997472/4), (3006.9302828341897/5), (3608.3152296709072/6), (4209.705725158226/7), (4799.860203176691/8)]\n",
    "period3 = 1/(np.mean(frequencies3))\n",
    "periods_datasets.append(period3)\n",
    "#81\n",
    "frequencies4 = [601.3849468367175, (1202.769893673435/2), (1804.1492918595509/3), (2405.5342386962684/4), (3006.919185532986/5), (3608.3041323697034/6)]\n",
    "period4 = 1/(np.mean(frequencies4))\n",
    "periods_datasets.append(period4)\n",
    "#82\n",
    "frequencies5 = [601.3904954873194, (1202.7809909746388/2), (1804.1714864619585/3), (2405.5619819492777/4), (3006.9524774365973/5), (3608.342972923917/6), (4209.733468411237/7)]\n",
    "period5 = 1/(np.mean(frequencies5))\n",
    "periods_datasets.append(period5)\n",
    "#83\n",
    "frequencies6 = [601.4015927885233, (1202.8087342276485/2), (1804.2103270161717/3), (2405.617468455297/4), (3007.01906124382/5), (3608.426202682945/6)]\n",
    "period6 = 1/(np.mean(frequencies6))\n",
    "periods_datasets.append(period6)\n",
    "#84\n",
    "frequencies7 = [601.418238740329, (1202.84202613126/2), (1804.2602648715888/3), (2405.68405226252/4), (3007.1022910028487/5)]\n",
    "period7 = 1/(np.mean(frequencies7))\n",
    "periods_datasets.append(period7)\n",
    "#85\n",
    "frequencies8 = [601.4348846921347, (1202.8697693842694/2), (1804.2991054258023/3), (2405.733990117937/4), (3007.1688748100714/5), (3608.6037595022062/6)]\n",
    "period8 = 1/(np.mean(frequencies8))\n",
    "periods_datasets.append(period8)\n",
    "#86\n",
    "frequencies9 = [601.4404333427366, (1202.8808666854732/2), (1804.3213000282099/3), (2405.7561847203447/4), (3007.196618063081/5),]\n",
    "period9 = 1/(np.mean(frequencies9))\n",
    "periods_datasets.append(period9)\n",
    "#87\n",
    "frequencies10 = [601.4348846921347, (1202.8697693842694/2), (1804.310202727006/3), (2405.745087419141/4), (3007.179972111275/5), (3608.61485680341/6)]\n",
    "period10 = 1/(np.mean(frequencies10))\n",
    "periods_datasets.append(period10)\n",
    "#88\n",
    "frequencies11 = [601.4293360415328, (1202.8531234324637/2), (1804.2824594739964/3), (2405.7062468649274/4)]\n",
    "period11 = 1/(np.mean(frequencies11))\n",
    "periods_datasets.append(period11)\n",
    "\n",
    "\n",
    "# found MJD's\n",
    "list_MJD =  list( mjd_dict.values() )\n",
    "# but we skip the following datasets for now:\n",
    "del list_MJD[1] # skip dataset 2\n",
    "del list_MJD[2] # skip dataset 3\n",
    "del list_MJD[-1] # skip dataset 14\n",
    "\n",
    "\n",
    "print(len(list_MJD))\n",
    "print(len(periods_datasets))\n",
    "print(periods_datasets)\n",
    "print(list_MJD)\n"
   ]
  },
  {
   "cell_type": "code",
   "execution_count": 119,
   "metadata": {},
   "outputs": [
    {
     "data": {
      "image/png": "[encoded data removed]",
      "text/plain": [
       "<Figure size 432x288 with 1 Axes>"
      ]
     },
     "metadata": {
      "needs_background": "light"
     },
     "output_type": "display_data"
    }
   ],
   "source": [
    "plt.scatter(list_MJD, periods_datasets)\n",
    "\n",
    "annotations = range(1, len(periods_datasets) + 1)\n",
    "\n",
    "for i, label in enumerate(annotations):\n",
    "    plt.annotate(label, (list_MJD[i], periods_datasets[i]))"
   ]
  },
  {
   "cell_type": "code",
   "execution_count": 189,
   "metadata": {},
   "outputs": [
    {
     "data": {
      "text/plain": [
       "[<matplotlib.lines.Line2D at 0x219ee2ee2e0>]"
      ]
     },
     "execution_count": 189,
     "metadata": {},
     "output_type": "execute_result"
    },
    {
     "data": {
      "image/png": "[encoded data removed]",
      "text/plain": [
       "<Figure size 432x288 with 1 Axes>"
      ]
     },
     "metadata": {
      "needs_background": "light"
     },
     "output_type": "display_data"
    }
   ],
   "source": [
    "total_time = nbins * dt\n",
    "time = [t*dt for t in np.arange(0, nbins)]"
   ]
  },
  {
   "cell_type": "code",
   "execution_count": 194,
   "metadata": {},
   "outputs": [
    {
     "data": {
      "text/plain": [
       "[<matplotlib.lines.Line2D at 0x219109f65e0>]"
      ]
     },
     "execution_count": 194,
     "metadata": {},
     "output_type": "execute_result"
    },
    {
     "data": {
      "image/png": "[encoded data removed]",
      "text/plain": [
       "<Figure size 432x288 with 1 Axes>"
      ]
     },
     "metadata": {
      "needs_background": "light"
     },
     "output_type": "display_data"
    }
   ],
   "source": [
    "plt.xlabel('time (s)')\n",
    "plt.xlim(0, 174)\n",
    "plt.ylabel('intensity')\n",
    "plt.plot(time, data_dict['L83029_SAP0_BEAM0_DM39.66.dat'] / max(data_dict['L83029_SAP0_BEAM0_DM39.66.dat']))"
   ]
  },
  {
   "cell_type": "markdown",
   "metadata": {},
   "source": [
    "## Repeating the analysis, but automized."
   ]
  },
  {
   "cell_type": "markdown",
   "metadata": {},
   "source": [
    "The automatisation of what we did above is straightforward in principle, it is a matter of creating array versions of all the relevant variables, with the $i$ th element corresponding to the $i$ th dataset. It is then a matter of bookkeeping and of making sure we translate everything correctly."
   ]
  },
  {
   "cell_type": "code",
   "execution_count": 120,
   "metadata": {},
   "outputs": [],
   "source": [
    "list_mjd2 =  list( mjd_dict.values() )"
   ]
  },
  {
   "cell_type": "code",
   "execution_count": 121,
   "metadata": {},
   "outputs": [],
   "source": [
    "frequencies = []\n",
    "transforms = []\n",
    "for val in data_dict.values():\n",
    "    frequencies.append( ( np.fft.fftfreq(nbins, dt) )[1:] )\n",
    "    transforms.append( np.abs( ( np.fft.fft(val) / len(val) )[1:] ) )  # division is to normalize the transform."
   ]
  },
  {
   "cell_type": "markdown",
   "metadata": {},
   "source": [
    "For now we still ignore datasets 2,3 and 14."
   ]
  },
  {
   "cell_type": "code",
   "execution_count": 122,
   "metadata": {},
   "outputs": [],
   "source": [
    "#del frequencies[2]\n",
    "#del frequencies[3]\n",
    "#del frequencies[-1]"
   ]
  },
  {
   "cell_type": "code",
   "execution_count": 123,
   "metadata": {},
   "outputs": [],
   "source": [
    "# TODO: It would be great to create numpy arrays to do this step immediately two cells above,\n",
    "# but the delete operator is not defined for numpy arrays, so we only convert to numpy arrays afterwards.\n",
    "frequencies = np.array(frequencies)\n",
    "transforms = np.array(transforms)"
   ]
  },
  {
   "cell_type": "markdown",
   "metadata": {},
   "source": [
    "Below is the code to plot in seperate figures. "
   ]
  },
  {
   "cell_type": "code",
   "execution_count": 187,
   "metadata": {},
   "outputs": [
    {
     "data": {
      "image/png": "[encoded data removed]",
      "text/plain": [
       "<Figure size 432x288 with 1 Axes>"
      ]
     },
     "metadata": {
      "needs_background": "light"
     },
     "output_type": "display_data"
    },
    {
     "data": {
      "text/plain": [
       "<Figure size 432x288 with 0 Axes>"
      ]
     },
     "metadata": {},
     "output_type": "display_data"
    }
   ],
   "source": [
    "for f, t in zip(frequencies[:1], transforms[:1]):\n",
    "    plt.plot(f, np.abs(t) / max(np.abs(t)) )\n",
    "    plt.xlim(0, 4000) # to remove the symmetry from the plot.\n",
    "    plt.xlabel('Frequency (Hz)')\n",
    "    plt.ylabel('Relative amplitude')\n",
    "    plt.figure()"
   ]
  },
  {
   "cell_type": "markdown",
   "metadata": {},
   "source": [
    "## Fourier one figure plot."
   ]
  },
  {
   "cell_type": "markdown",
   "metadata": {},
   "source": [
    "Create a joy division like plot in the Fourier spectrum so that we obtain just one figure instead of a dozen."
   ]
  },
  {
   "cell_type": "code",
   "execution_count": 125,
   "metadata": {},
   "outputs": [
    {
     "data": {
      "text/plain": [
       "<Figure size 432x288 with 0 Axes>"
      ]
     },
     "execution_count": 125,
     "metadata": {},
     "output_type": "execute_result"
    },
    {
     "data": {
      "image/png": "[encoded data removed]",
      "text/plain": [
       "<Figure size 432x288 with 1 Axes>"
      ]
     },
     "metadata": {
      "needs_background": "light"
     },
     "output_type": "display_data"
    },
    {
     "data": {
      "text/plain": [
       "<Figure size 432x288 with 0 Axes>"
      ]
     },
     "metadata": {},
     "output_type": "display_data"
    }
   ],
   "source": [
    "plt.figure()\n",
    "for i, (f, t) in enumerate( zip ( frequencies[:], np.abs( transforms[:] ) )  ) :\n",
    "    offset = i\n",
    "    plt.plot(f, t / np.max(t) + offset, label='1') \n",
    "    plt.xlim(0,4000)\n",
    "    #plt.ylim(0, 0.1)\n",
    "plt.xlabel('Frequencies (Hz)')\n",
    "plt.ylabel('Relative amplitude')\n",
    "plt.figure()"
   ]
  },
  {
   "cell_type": "code",
   "execution_count": 126,
   "metadata": {},
   "outputs": [],
   "source": [
    "height_threshold = 2 # Just reading off an appropriate value from the graph\n",
    "distance_between_peaks = 500"
   ]
  },
  {
   "cell_type": "code",
   "execution_count": 127,
   "metadata": {},
   "outputs": [
    {
     "name": "stderr",
     "output_type": "stream",
     "text": [
      "100%|██████████| 52/52 [00:00<?, ?it/s]\n",
      "100%|██████████| 82/82 [00:00<?, ?it/s]\n",
      "100%|██████████| 52/52 [00:00<00:00, 52215.42it/s]\n",
      "100%|██████████| 58/58 [00:00<00:00, 52861.72it/s]\n",
      "100%|██████████| 56/56 [00:00<?, ?it/s]\n",
      "100%|██████████| 54/54 [00:00<?, ?it/s]\n",
      "100%|██████████| 52/52 [00:00<?, ?it/s]\n",
      "100%|██████████| 58/58 [00:00<00:00, 57976.56it/s]\n",
      "100%|██████████| 52/52 [00:00<?, ?it/s]\n",
      "100%|██████████| 58/58 [00:00<?, ?it/s]\n",
      "100%|██████████| 66/66 [00:00<00:00, 64997.43it/s]\n",
      "100%|██████████| 74/74 [00:00<00:00, 85409.60it/s]\n",
      "100%|██████████| 60/60 [00:00<?, ?it/s]\n",
      "100%|██████████| 36/36 [00:00<?, ?it/s]"
     ]
    },
    {
     "name": "stdout",
     "output_type": "stream",
     "text": [
      "<class 'numpy.ndarray'>\n",
      "<class 'numpy.ndarray'>\n",
      "<class 'list'>\n"
     ]
    },
    {
     "name": "stderr",
     "output_type": "stream",
     "text": [
      "\n",
      "C:\\Users\\bvptr\\AppData\\Local\\Temp/ipykernel_7852/1825242877.py:11: VisibleDeprecationWarning: Creating an ndarray from ragged nested sequences (which is a list-or-tuple of lists-or-tuples-or ndarrays with different lengths or shapes) is deprecated. If you meant to do this, you must specify 'dtype=object' when creating the ndarray.\n",
      "  peak_indices = np.array( peak_indices )\n",
      "C:\\Users\\bvptr\\AppData\\Local\\Temp/ipykernel_7852/1825242877.py:12: VisibleDeprecationWarning: Creating an ndarray from ragged nested sequences (which is a list-or-tuple of lists-or-tuples-or ndarrays with different lengths or shapes) is deprecated. If you meant to do this, you must specify 'dtype=object' when creating the ndarray.\n",
      "  peak_heights = np.array( peak_heights )\n"
     ]
    }
   ],
   "source": [
    "peak_indices = []\n",
    "peak_heights = []\n",
    "peak_frequencies = []\n",
    "for i, (f, t) in enumerate( zip( frequencies, transforms ) ):\n",
    "    indices, props = find_peaks(t, height=height_threshold, distance=distance_between_peaks)\n",
    "    peak_indices.append(indices)\n",
    "    peak_heights.append(props[\"peak_heights\"])\n",
    "    \n",
    "    peak_frequencies.append( [f for i in tqdm(peak_indices[i])] )\n",
    "\n",
    "peak_indices = np.array( peak_indices )\n",
    "peak_heights = np.array( peak_heights )\n",
    "# NOTE: converting peak_frequencies to np array takes too much memory.\n",
    "#peak_frequencies = np.array( peak_frequencies )\n",
    "print(type(peak_indices))\n",
    "print(type(peak_heights))\n",
    "print(type(peak_frequencies))"
   ]
  },
  {
   "cell_type": "code",
   "execution_count": 128,
   "metadata": {},
   "outputs": [],
   "source": [
    "nharmonics = 5"
   ]
  },
  {
   "cell_type": "code",
   "execution_count": 129,
   "metadata": {},
   "outputs": [],
   "source": [
    "max_amplitudes = []\n",
    "harmonics = []\n",
    "\n",
    "for i, (f, t, h) in enumerate( zip( frequencies, transforms, peak_heights) ):\n",
    "    max_amplitudes.append( n_max_intensities(peak_heights[i], n=(2 * nharmonics)) ) # 2x since the graph is symmetric.\n",
    "    harmonics.append( n_max_frequencies( f, t,  max_amplitudes[i]) )\n",
    "\n",
    "max_amplitudes = np.array( max_amplitudes )\n",
    "harmonics = np.array( harmonics )"
   ]
  },
  {
   "cell_type": "code",
   "execution_count": 130,
   "metadata": {},
   "outputs": [],
   "source": [
    "#for f, t, h, a in zip( frequencies, transforms, harmonics, max_amplitudes):\n",
    "#    plt.clf()\n",
    "#    plt.plot(f, t,'-', h, a,'x')\n",
    "#    plt.figure()"
   ]
  },
  {
   "cell_type": "markdown",
   "metadata": {},
   "source": [
    "## Fourier one figure plot with peaks"
   ]
  },
  {
   "cell_type": "markdown",
   "metadata": {},
   "source": [
    "This one is currently broken"
   ]
  },
  {
   "cell_type": "code",
   "execution_count": 131,
   "metadata": {},
   "outputs": [
    {
     "data": {
      "text/plain": [
       "<Figure size 432x288 with 0 Axes>"
      ]
     },
     "execution_count": 131,
     "metadata": {},
     "output_type": "execute_result"
    },
    {
     "data": {
      "image/png": "[encoded data removed]",
      "text/plain": [
       "<Figure size 432x288 with 1 Axes>"
      ]
     },
     "metadata": {
      "needs_background": "light"
     },
     "output_type": "display_data"
    },
    {
     "data": {
      "text/plain": [
       "<Figure size 432x288 with 0 Axes>"
      ]
     },
     "metadata": {},
     "output_type": "display_data"
    }
   ],
   "source": [
    "plt.figure()\n",
    "for i, (f, t, h, a) in enumerate ( zip( frequencies, transforms, harmonics, max_amplitudes) ):\n",
    "    offset = i\n",
    "    plt.plot(f, t / np.max(t) + offset,'-', h, a / np.max(t) + offset,'x')\n",
    "    plt.xlim(0,2500)\n",
    "    plt.ylim(0, 25)\n",
    "plt.xlabel('frequencies')\n",
    "plt.ylabel('amplitude')\n",
    "plt.figure()"
   ]
  },
  {
   "cell_type": "markdown",
   "metadata": {},
   "source": [
    "We now do a series of operations on our found harmonics to calculate other quantities\n",
    "\n",
    "Let us discard negative (unphysical) harmonics."
   ]
  },
  {
   "cell_type": "code",
   "execution_count": 132,
   "metadata": {},
   "outputs": [
    {
     "name": "stderr",
     "output_type": "stream",
     "text": [
      "C:\\Users\\bvptr\\AppData\\Local\\Temp/ipykernel_7852/1231146584.py:1: VisibleDeprecationWarning: Creating an ndarray from ragged nested sequences (which is a list-or-tuple of lists-or-tuples-or ndarrays with different lengths or shapes) is deprecated. If you meant to do this, you must specify 'dtype=object' when creating the ndarray.\n",
      "  harmonics = np.array( [ list( filter( lambda el: el > 0, x)  ) for x in harmonics ] )\n"
     ]
    }
   ],
   "source": [
    "harmonics = np.array( [ list( filter( lambda el: el > 0, x)  ) for x in harmonics ] )"
   ]
  },
  {
   "cell_type": "markdown",
   "metadata": {},
   "source": [
    "Discard frequencies that certainly are not harmonics."
   ]
  },
  {
   "cell_type": "code",
   "execution_count": 133,
   "metadata": {},
   "outputs": [
    {
     "name": "stderr",
     "output_type": "stream",
     "text": [
      "C:\\Users\\bvptr\\AppData\\Local\\Temp/ipykernel_7852/3747825511.py:2: VisibleDeprecationWarning: Creating an ndarray from ragged nested sequences (which is a list-or-tuple of lists-or-tuples-or ndarrays with different lengths or shapes) is deprecated. If you meant to do this, you must specify 'dtype=object' when creating the ndarray.\n",
      "  harmonics = np.array( [ list( filter( lambda el: el > estimated_fundamental, x)  ) for x in harmonics ] )\n"
     ]
    }
   ],
   "source": [
    "estimated_fundamental = 600\n",
    "harmonics = np.array( [ list( filter( lambda el: el > estimated_fundamental, x)  ) for x in harmonics ] )"
   ]
  },
  {
   "cell_type": "markdown",
   "metadata": {},
   "source": [
    "Now, we have got a pretty great idea of what is the fundamental and what is the $i$ th harmonic. We use this knowledge to now accurately determine the period.\n",
    "\n",
    "We use the following rationale $\\left( i \\text{th harmonic} \\right) = \\left( i \\cdot \\text{estimated fundamental} \\pm \\varepsilon \\right)$\n",
    "\n",
    "Better still is to go through our found harmonics and determine which harmonic we are dealing with too."
   ]
  },
  {
   "cell_type": "markdown",
   "metadata": {},
   "source": [
    "I am not sure if we want to do the following operation"
   ]
  },
  {
   "cell_type": "code",
   "execution_count": 134,
   "metadata": {},
   "outputs": [],
   "source": [
    "#harmonics = [ list( set( x ) ) for x in harmonics ] # unique values"
   ]
  },
  {
   "cell_type": "markdown",
   "metadata": {},
   "source": [
    "Whatever is None we want to set to zero."
   ]
  },
  {
   "cell_type": "code",
   "execution_count": 135,
   "metadata": {},
   "outputs": [],
   "source": [
    "def none_to_zero_list(lst):\n",
    "    return [ [0] if not x else x for x in lst ]"
   ]
  },
  {
   "cell_type": "code",
   "execution_count": 136,
   "metadata": {},
   "outputs": [],
   "source": [
    "harmonics = none_to_zero_list(harmonics)"
   ]
  },
  {
   "cell_type": "code",
   "execution_count": 137,
   "metadata": {},
   "outputs": [],
   "source": [
    "#harmonics = [ list( filter(None, x)  ) for x in harmonics ] # remove emptiness from the inner lists.\n",
    "#harmonics = list( filter(None, harmonics)  ) # remove emptiness from the outer list."
   ]
  },
  {
   "cell_type": "markdown",
   "metadata": {},
   "source": [
    "In principle it does not matter in what order we average here. All we are interested in is that the $i$ th harmonic is divided by $i$."
   ]
  },
  {
   "cell_type": "code",
   "execution_count": 138,
   "metadata": {},
   "outputs": [],
   "source": [
    "def harmonic_division(harmonic, estimated_fundamental, epsilon=10):\n",
    "    hard_coded_limit_factor = 100\n",
    "    # start the enumeration at i = 1. \n",
    "    for i, x in enumerate( range(estimated_fundamental, hard_coded_limit_factor * estimated_fundamental, estimated_fundamental ), 1 ):\n",
    "        if x - epsilon <= harmonic <= x + epsilon:\n",
    "            return harmonic / i\n",
    "\n",
    "def do_harmonic_division_on(harmonics):\n",
    "    new_harmonics = []\n",
    "    for x in harmonics:\n",
    "        a = []\n",
    "        for y in x:\n",
    "            a.append( harmonic_division(y, estimated_fundamental) )\n",
    "        new_harmonics.append(a)\n",
    "    return new_harmonics\n",
    "\n",
    "harmonics = do_harmonic_division_on(harmonics)"
   ]
  },
  {
   "cell_type": "code",
   "execution_count": 139,
   "metadata": {},
   "outputs": [
    {
     "data": {
      "text/plain": [
       "[[601.418238740329,\n",
       "  601.418238740329,\n",
       "  601.418238740329,\n",
       "  601.418238740329,\n",
       "  601.418238740329,\n",
       "  601.418238740329],\n",
       " [None, None, 601.4348846921347, 601.4348846921347],\n",
       " [None],\n",
       " [601.3960441379214,\n",
       "  601.3960441379214,\n",
       "  601.3960441379214,\n",
       "  601.3960441379214,\n",
       "  601.397893688122,\n",
       "  601.397893688122,\n",
       "  601.3974313005718],\n",
       " [601.3849468367175,\n",
       "  601.3849468367175,\n",
       "  601.386333999368,\n",
       "  601.3867963869183,\n",
       "  601.3867963869183],\n",
       " [601.3849468367175,\n",
       "  601.3849468367175,\n",
       "  601.3849468367175,\n",
       "  601.3835596740671,\n",
       "  601.383097286517],\n",
       " [601.3904954873194,\n",
       "  601.3904954873194,\n",
       "  601.3904954873195,\n",
       "  601.3904954873195,\n",
       "  601.3904954873194],\n",
       " [601.4015927885233,\n",
       "  601.4015927885233,\n",
       "  601.4043671138243,\n",
       "  601.4043671138243,\n",
       "  601.403442338724,\n",
       "  601.403442338724],\n",
       " [601.418238740329,\n",
       "  601.418238740329,\n",
       "  601.42101306563,\n",
       "  601.4200882905296,\n",
       "  601.42101306563],\n",
       " [601.4348846921347,\n",
       "  601.4348846921347,\n",
       "  601.4348846921347,\n",
       "  601.4334975294843,\n",
       "  601.4334975294843,\n",
       "  601.433035141934],\n",
       " [601.4404333427366,\n",
       "  601.4404333427366,\n",
       "  601.4404333427366,\n",
       "  601.4404333427366,\n",
       "  601.4404333427366],\n",
       " [601.4348846921347, 601.4348846921347, 601.4362718547852, 601.4367342423353],\n",
       " [601.4293360415328, 601.4265617162318, 601.4265617162318],\n",
       " [None, None]]"
      ]
     },
     "execution_count": 139,
     "metadata": {},
     "output_type": "execute_result"
    }
   ],
   "source": [
    "harmonics"
   ]
  },
  {
   "cell_type": "code",
   "execution_count": 140,
   "metadata": {},
   "outputs": [],
   "source": [
    "def none_to_zero(lst):\n",
    "    return [ 0 if not x else x for x in lst ]"
   ]
  },
  {
   "cell_type": "code",
   "execution_count": 141,
   "metadata": {},
   "outputs": [],
   "source": [
    "harmonics = [ none_to_zero(x) for x in harmonics ]"
   ]
  },
  {
   "cell_type": "code",
   "execution_count": 142,
   "metadata": {},
   "outputs": [
    {
     "name": "stderr",
     "output_type": "stream",
     "text": [
      "c:\\Users\\bvptr\\academia\\physics\\year2\\research_practicum\\pulsar_analysis\\src\\script\\utility\\utility.py:41: RuntimeWarning: divide by zero encountered in double_scalars\n",
      "  return 1 / (mean := np.mean(frequencies)), np.std(frequencies) / mean**2\n",
      "c:\\Users\\bvptr\\academia\\physics\\year2\\research_practicum\\pulsar_analysis\\src\\script\\utility\\utility.py:41: RuntimeWarning: invalid value encountered in double_scalars\n",
      "  return 1 / (mean := np.mean(frequencies)), np.std(frequencies) / mean**2\n"
     ]
    }
   ],
   "source": [
    "periods, errors = np.transpose( [ period_and_error(x) for x in harmonics ] )"
   ]
  },
  {
   "cell_type": "code",
   "execution_count": 143,
   "metadata": {},
   "outputs": [],
   "source": [
    "def nan_to_zero(a):\n",
    "    return np.where(np.isnan(a), 0, a)\n",
    "def inf_to_zero(a):\n",
    "    return np.where(np.isinf(a), 0, a)"
   ]
  },
  {
   "cell_type": "code",
   "execution_count": 144,
   "metadata": {},
   "outputs": [
    {
     "name": "stdout",
     "output_type": "stream",
     "text": [
      "[0.00166274 0.00332538        inf 0.0016628  0.00166283 0.00166283\n",
      " 0.00166281 0.00166278 0.00166273 0.00166269 0.00166268 0.00166269\n",
      " 0.00166271        inf]\n",
      "[0.00000000e+00 3.32538077e-03            nan 2.35309766e-09\n",
      " 2.34352287e-09 2.22914722e-09 1.98804890e-19 3.18894858e-09\n",
      " 3.46808484e-09 2.17267834e-09 0.00000000e+00 2.28219543e-09\n",
      " 3.61563499e-09            nan]\n"
     ]
    }
   ],
   "source": [
    "print( periods )\n",
    "print( errors )"
   ]
  },
  {
   "cell_type": "code",
   "execution_count": 145,
   "metadata": {},
   "outputs": [],
   "source": [
    "#periods = inf_to_zero(periods)\n",
    "#errors = nan_to_zero(errors)"
   ]
  },
  {
   "cell_type": "code",
   "execution_count": 146,
   "metadata": {},
   "outputs": [
    {
     "name": "stdout",
     "output_type": "stream",
     "text": [
      "14\n",
      "14\n"
     ]
    }
   ],
   "source": [
    "print( len(list_mjd2))\n",
    "print( len(periods))"
   ]
  },
  {
   "cell_type": "code",
   "execution_count": 147,
   "metadata": {},
   "outputs": [
    {
     "data": {
      "text/plain": [
       "<matplotlib.collections.PathCollection at 0x2190cb1c730>"
      ]
     },
     "execution_count": 147,
     "metadata": {},
     "output_type": "execute_result"
    },
    {
     "data": {
      "image/png": "[encoded data removed]",
      "text/plain": [
       "<Figure size 432x288 with 1 Axes>"
      ]
     },
     "metadata": {
      "needs_background": "light"
     },
     "output_type": "display_data"
    }
   ],
   "source": [
    "plt.scatter(list_mjd2, periods)"
   ]
  },
  {
   "cell_type": "code",
   "execution_count": 148,
   "metadata": {},
   "outputs": [
    {
     "data": {
      "text/plain": [
       "<matplotlib.collections.PathCollection at 0x2191067afd0>"
      ]
     },
     "execution_count": 148,
     "metadata": {},
     "output_type": "execute_result"
    },
    {
     "data": {
      "image/png": "[encoded data removed]",
      "text/plain": [
       "<Figure size 432x288 with 1 Axes>"
      ]
     },
     "metadata": {
      "needs_background": "light"
     },
     "output_type": "display_data"
    }
   ],
   "source": [
    "plt.scatter(list_MJD, periods_datasets)"
   ]
  },
  {
   "cell_type": "code",
   "execution_count": 149,
   "metadata": {},
   "outputs": [
    {
     "data": {
      "text/plain": [
       "[56299.364628335425,\n",
       " 56299.61949397883,\n",
       " 56300.48270470806,\n",
       " 56300.4688155539,\n",
       " 56300.45492639893,\n",
       " 56300.44103724313,\n",
       " 56300.42714808649,\n",
       " 56300.413258929024,\n",
       " 56300.39936977075,\n",
       " 56300.38548061164,\n",
       " 56300.37159145176,\n",
       " 56300.35770229113,\n",
       " 56300.34381312978,\n",
       " 56300.32992396778]"
      ]
     },
     "execution_count": 149,
     "metadata": {},
     "output_type": "execute_result"
    }
   ],
   "source": [
    "list_mjd2"
   ]
  },
  {
   "cell_type": "code",
   "execution_count": 150,
   "metadata": {},
   "outputs": [
    {
     "data": {
      "text/plain": [
       "<matplotlib.collections.PathCollection at 0x219106a1910>"
      ]
     },
     "execution_count": 150,
     "metadata": {},
     "output_type": "execute_result"
    },
    {
     "data": {
      "image/png": "[encoded data removed]",
      "text/plain": [
       "<Figure size 432x288 with 1 Axes>"
      ]
     },
     "metadata": {
      "needs_background": "light"
     },
     "output_type": "display_data"
    }
   ],
   "source": [
    "plt.scatter(list( reversed( sorted(list_mjd2) ) ), periods)"
   ]
  },
  {
   "cell_type": "code",
   "execution_count": 151,
   "metadata": {},
   "outputs": [
    {
     "data": {
      "image/png": "[encoded data removed]",
      "text/plain": [
       "<Figure size 432x288 with 1 Axes>"
      ]
     },
     "metadata": {
      "needs_background": "light"
     },
     "output_type": "display_data"
    }
   ],
   "source": [
    "plt.plot(list_mjd2, periods, '.')\n",
    "plt.xlim(0.20 + 5.63 * 10 **4, 0.475 + 4.63 * 10 **4)\n",
    "plt.ylim(.00166267, .00166284)\n",
    "#plt.yticks( np.linspace(.00166267, .00166284, 20) )\n",
    "plt.ticklabel_format(style = 'plain')"
   ]
  },
  {
   "cell_type": "code",
   "execution_count": 152,
   "metadata": {},
   "outputs": [],
   "source": [
    "phase = 0\n",
    "frequency = 1 / 0.16\n",
    "offset = 6 * 10 ** -7 + 1.662 * 10 ** -3\n",
    "amplitude = - 8 * 10 ** -7 # Note the negative."
   ]
  },
  {
   "cell_type": "code",
   "execution_count": 153,
   "metadata": {},
   "outputs": [],
   "source": [
    "x = np.linspace(0.34 + 5.63 * 10 **4, 0.46 + 5.63 * 10 **4, 50)\n",
    "y = amplitude * np.sin(2 * np.pi * frequency * x + phase) + offset"
   ]
  },
  {
   "cell_type": "code",
   "execution_count": 154,
   "metadata": {},
   "outputs": [
    {
     "data": {
      "image/png": "[encoded data removed]",
      "text/plain": [
       "<Figure size 432x288 with 1 Axes>"
      ]
     },
     "metadata": {
      "needs_background": "light"
     },
     "output_type": "display_data"
    }
   ],
   "source": [
    "plt.plot(x, y, '-', color='orange')\n",
    "plt.ticklabel_format(style = 'plain')"
   ]
  },
  {
   "cell_type": "markdown",
   "metadata": {},
   "source": [
    "Rembrand's Method"
   ]
  },
  {
   "cell_type": "code",
   "execution_count": 155,
   "metadata": {},
   "outputs": [
    {
     "data": {
      "text/plain": [
       "[<matplotlib.lines.Line2D at 0x21910819250>]"
      ]
     },
     "execution_count": 155,
     "metadata": {},
     "output_type": "execute_result"
    },
    {
     "data": {
      "image/png": "[encoded data removed]",
      "text/plain": [
       "<Figure size 432x288 with 1 Axes>"
      ]
     },
     "metadata": {
      "needs_background": "light"
     },
     "output_type": "display_data"
    }
   ],
   "source": [
    "plt.xlim(0.34 + 5.63 * 10 **4, 0.475 + 5.63 * 10 **4)\n",
    "#plt.ylim(.00156267, .00176284)\n",
    "plt.ylim(.001660, .001665)\n",
    "plt.ticklabel_format(style = 'plain')\n",
    "\n",
    "plt.plot(list_mjd2, periods, '.')\n",
    "plt.plot(x, y, '-')"
   ]
  },
  {
   "cell_type": "markdown",
   "metadata": {},
   "source": [
    "this should suffice for an estimate of the begin parameters."
   ]
  },
  {
   "cell_type": "code",
   "execution_count": 156,
   "metadata": {},
   "outputs": [],
   "source": [
    "from lmfit import models, Parameters"
   ]
  },
  {
   "cell_type": "code",
   "execution_count": 157,
   "metadata": {},
   "outputs": [
    {
     "data": {
      "text/plain": [
       "[56299.364628335425,\n",
       " 56299.61949397883,\n",
       " 56300.48270470806,\n",
       " 56300.4688155539,\n",
       " 56300.45492639893,\n",
       " 56300.44103724313,\n",
       " 56300.42714808649,\n",
       " 56300.413258929024,\n",
       " 56300.39936977075,\n",
       " 56300.38548061164,\n",
       " 56300.37159145176,\n",
       " 56300.35770229113,\n",
       " 56300.34381312978,\n",
       " 56300.32992396778]"
      ]
     },
     "execution_count": 157,
     "metadata": {},
     "output_type": "execute_result"
    }
   ],
   "source": [
    "list_mjd2"
   ]
  },
  {
   "cell_type": "code",
   "execution_count": 158,
   "metadata": {},
   "outputs": [],
   "source": [
    "x = list_mjd2\n",
    "y = periods"
   ]
  },
  {
   "cell_type": "code",
   "execution_count": 159,
   "metadata": {},
   "outputs": [
    {
     "data": {
      "text/plain": [
       "[<matplotlib.lines.Line2D at 0x2191087c040>]"
      ]
     },
     "execution_count": 159,
     "metadata": {},
     "output_type": "execute_result"
    },
    {
     "data": {
      "image/png": "[encoded data removed]",
      "text/plain": [
       "<Figure size 432x288 with 1 Axes>"
      ]
     },
     "metadata": {
      "needs_background": "light"
     },
     "output_type": "display_data"
    }
   ],
   "source": [
    "plt.plot(x, y, '.')"
   ]
  },
  {
   "cell_type": "code",
   "execution_count": 160,
   "metadata": {},
   "outputs": [
    {
     "data": {
      "text/plain": [
       "[56299.364628335425,\n",
       " 56299.61949397883,\n",
       " 56300.48270470806,\n",
       " 56300.4688155539,\n",
       " 56300.45492639893,\n",
       " 56300.44103724313,\n",
       " 56300.42714808649,\n",
       " 56300.413258929024,\n",
       " 56300.39936977075,\n",
       " 56300.38548061164,\n",
       " 56300.37159145176,\n",
       " 56300.35770229113,\n",
       " 56300.34381312978,\n",
       " 56300.32992396778]"
      ]
     },
     "execution_count": 160,
     "metadata": {},
     "output_type": "execute_result"
    }
   ],
   "source": [
    "x"
   ]
  },
  {
   "cell_type": "code",
   "execution_count": 161,
   "metadata": {},
   "outputs": [
    {
     "data": {
      "text/plain": [
       "array([0.00166274, 0.00332538,        inf, 0.0016628 , 0.00166283,\n",
       "       0.00166283, 0.00166281, 0.00166278, 0.00166273, 0.00166269,\n",
       "       0.00166268, 0.00166269, 0.00166271,        inf])"
      ]
     },
     "execution_count": 161,
     "metadata": {},
     "output_type": "execute_result"
    }
   ],
   "source": [
    "y"
   ]
  },
  {
   "cell_type": "code",
   "execution_count": 162,
   "metadata": {},
   "outputs": [
    {
     "data": {
      "text/plain": [
       "array([0.00000000e+00, 3.32538077e-03,            nan, 2.35309766e-09,\n",
       "       2.34352287e-09, 2.22914722e-09, 1.98804890e-19, 3.18894858e-09,\n",
       "       3.46808484e-09, 2.17267834e-09, 0.00000000e+00, 2.28219543e-09,\n",
       "       3.61563499e-09,            nan])"
      ]
     },
     "execution_count": 162,
     "metadata": {},
     "output_type": "execute_result"
    }
   ],
   "source": [
    "errors"
   ]
  },
  {
   "cell_type": "code",
   "execution_count": 163,
   "metadata": {},
   "outputs": [],
   "source": [
    "# Let's try to fit w/o these points first.\n",
    "x = np.delete( list_mjd2, [0,1,2,13] )\n",
    "y = np.delete( periods, [0,1,2,13] )\n",
    "errors = np.delete( errors, [0,1,2,13] )"
   ]
  },
  {
   "cell_type": "code",
   "execution_count": 164,
   "metadata": {},
   "outputs": [
    {
     "data": {
      "text/plain": [
       "10"
      ]
     },
     "execution_count": 164,
     "metadata": {},
     "output_type": "execute_result"
    }
   ],
   "source": [
    "len( errors )"
   ]
  },
  {
   "cell_type": "markdown",
   "metadata": {},
   "source": [
    "We need to fix the unsortedness of the data."
   ]
  },
  {
   "cell_type": "code",
   "execution_count": 165,
   "metadata": {},
   "outputs": [
    {
     "data": {
      "text/plain": [
       "[<matplotlib.lines.Line2D at 0x219108db5b0>]"
      ]
     },
     "execution_count": 165,
     "metadata": {},
     "output_type": "execute_result"
    },
    {
     "data": {
      "image/png": "[encoded data removed]",
      "text/plain": [
       "<Figure size 432x288 with 1 Axes>"
      ]
     },
     "metadata": {
      "needs_background": "light"
     },
     "output_type": "display_data"
    }
   ],
   "source": [
    "plt.plot(x, y, '.')"
   ]
  },
  {
   "cell_type": "code",
   "execution_count": 166,
   "metadata": {},
   "outputs": [
    {
     "name": "stdout",
     "output_type": "stream",
     "text": [
      "[56300.4688155539, 56300.45492639893, 56300.44103724313, 56300.42714808649, 56300.413258929024, 56300.39936977075, 56300.38548061164, 56300.37159145176, 56300.35770229113, 56300.34381312978]\n",
      "[0.0016627957592090326, 0.00166282563896264, 0.0016628302415629193, 0.0016628131097909669, 0.0016627781654799023, 0.0016627323139534107, 0.0016626925155149316, 0.0016626750457100386, 0.0016626881480292916, 0.001662710837899844]\n"
     ]
    }
   ],
   "source": [
    "print( [ el for el in x ] )\n",
    "print( [ el for el in y ] )"
   ]
  },
  {
   "cell_type": "markdown",
   "metadata": {},
   "source": [
    "## Fixed calculation of the speed, cf. MMA"
   ]
  },
  {
   "cell_type": "code",
   "execution_count": 167,
   "metadata": {},
   "outputs": [],
   "source": [
    "p0 = ( y[4] + y[5] ) / 2\n",
    "p = ( y[7] + y[8] ) / 2\n",
    "c = 3 * 10 ** 8 "
   ]
  },
  {
   "cell_type": "code",
   "execution_count": 168,
   "metadata": {},
   "outputs": [
    {
     "name": "stdout",
     "output_type": "stream",
     "text": [
      "-13.28689488969692 in km / s\n"
     ]
    }
   ],
   "source": [
    "v = c * ( p / p0 - 1) \n",
    "print(f\"{v * 10 ** -3} in km / s\")"
   ]
  },
  {
   "cell_type": "code",
   "execution_count": 169,
   "metadata": {},
   "outputs": [],
   "source": [
    "errors2 = np.where(errors != 0, errors, 0.5 * 10 ** -8) # Settings it to our precision."
   ]
  },
  {
   "cell_type": "code",
   "execution_count": 170,
   "metadata": {},
   "outputs": [
    {
     "name": "stdout",
     "output_type": "stream",
     "text": [
      "[2.353097663263867e-09, 2.3435228659575588e-09, 2.2291472249414805e-09, 1.9880488969239098e-19, 3.1889485827440945e-09, 3.46808484243367e-09, 2.1726783415015955e-09, 5e-09, 2.2821954279209845e-09, 3.615634992325844e-09]\n"
     ]
    }
   ],
   "source": [
    "print([el for el in errors2])"
   ]
  },
  {
   "cell_type": "code",
   "execution_count": 171,
   "metadata": {},
   "outputs": [
    {
     "data": {
      "text/html": [
       "<h2> Model</h2> Model(sin) <h2>Fit Statistics</h2><table><tr><td>fitting method</td><td>leastsq</td><td></td></tr><tr><td># function evals</td><td>43</td><td></td></tr><tr><td># data points</td><td>10</td><td></td></tr><tr><td># variables</td><td>4</td><td></td></tr><tr><td>chi-square</td><td> 1.1189e+18</td><td></td></tr><tr><td>reduced chi-square</td><td> 1.8649e+17</td><td></td></tr><tr><td>Akaike info crit.</td><td> 400.563090</td><td></td></tr><tr><td>Bayesian info crit.</td><td> 401.773430</td><td></td></tr></table><h2>Variables</h2><table><tr><th> name </th><th> value </th><th> initial value </th><th> min </th><th> max </th><th> vary </th></tr><tr><td> amplitude </td><td>  7.7591e-08 </td><td> -8e-07 </td><td>        -inf </td><td>         inf </td><td> True </td></tr><tr><td> frequency </td><td>  6.25007714 </td><td> 6.25 </td><td>        -inf </td><td>         inf </td><td> True </td></tr><tr><td> offset </td><td>  0.00166275 </td><td> 0.0016625999999999998 </td><td>        -inf </td><td>         inf </td><td> True </td></tr><tr><td> phase </td><td> -24.3685230 </td><td> 3 </td><td>        -inf </td><td>         inf </td><td> True </td></tr></table>"
      ],
      "text/plain": [
       "<lmfit.model.ModelResult at 0x21910911ee0>"
      ]
     },
     "execution_count": 171,
     "metadata": {},
     "output_type": "execute_result"
    }
   ],
   "source": [
    "# TODO: Add errors as weights.\n",
    "sin = lambda x, amplitude, frequency, offset, phase: amplitude * np.sin(2 * np.pi * frequency * x + phase) + offset # x needs to be given first.\n",
    "model_curve = models.Model(sin, name='sin')\n",
    "\n",
    "fit = model_curve.fit(data=y, x=x, amplitude=amplitude, frequency=frequency, offset=offset, phase=3, weights=1/errors2)\n",
    "fit"
   ]
  },
  {
   "cell_type": "code",
   "execution_count": 172,
   "metadata": {},
   "outputs": [
    {
     "data": {
      "image/png": "[encoded data removed]",
      "text/plain": [
       "<Figure size 432x432 with 2 Axes>"
      ]
     },
     "execution_count": 172,
     "metadata": {},
     "output_type": "execute_result"
    },
    {
     "data": {
      "image/png": "[encoded data removed]",
      "text/plain": [
       "<Figure size 432x432 with 2 Axes>"
      ]
     },
     "metadata": {
      "needs_background": "light"
     },
     "output_type": "display_data"
    }
   ],
   "source": [
    "fit.plot(numpoints=1000,xlabel=\"modified julian date (days)\", ylabel=\"period (s)\")"
   ]
  },
  {
   "cell_type": "markdown",
   "metadata": {},
   "source": [
    "## Attempt ot fit using curvefit"
   ]
  },
  {
   "cell_type": "code",
   "execution_count": 173,
   "metadata": {},
   "outputs": [],
   "source": [
    "from scipy import optimize\n",
    "from IPython.display import display, Math\n",
    "def sine(x, dist, amp, omega, phi):\n",
    "    return dist + amp * np.cos(omega * x + phi)"
   ]
  },
  {
   "cell_type": "code",
   "execution_count": 174,
   "metadata": {},
   "outputs": [
    {
     "data": {
      "text/plain": [
       "10"
      ]
     },
     "execution_count": 174,
     "metadata": {},
     "output_type": "execute_result"
    }
   ],
   "source": [
    "len( list_mjd2)\n",
    "len(errors)"
   ]
  },
  {
   "cell_type": "markdown",
   "metadata": {},
   "source": [
    "```\n",
    "name\tvalue\tinitial value\tmin\tmax\tvary\n",
    "amplitude\t7.7591e-08\t-8e-07\t-inf\tinf\tTrue\n",
    "frequency\t6.25007714\t6.25\t-inf\tinf\tTrue\n",
    "offset\t0.00166275\t0.0016625999999999998\t-inf\tinf\tTrue\n",
    "phase\t-24.3685230\t3\t-inf\tinf\tTrue\n",
    "```"
   ]
  },
  {
   "cell_type": "code",
   "execution_count": 175,
   "metadata": {},
   "outputs": [],
   "source": [
    "phi_guess = -24.3685230\n",
    "omega_guess = 2 * np.pi * 6.25007714\n",
    "dist_guess = 0.00166275\n",
    "amp_guess = 7.7591e-08"
   ]
  },
  {
   "cell_type": "code",
   "execution_count": 176,
   "metadata": {},
   "outputs": [
    {
     "name": "stdout",
     "output_type": "stream",
     "text": [
      "[ 1.66275000e-03  7.75910000e-08  3.92703929e+01 -2.43685230e+01]\n",
      "[[inf inf inf inf]\n",
      " [inf inf inf inf]\n",
      " [inf inf inf inf]\n",
      " [inf inf inf inf]]\n",
      "[inf inf inf inf]\n"
     ]
    },
    {
     "name": "stderr",
     "output_type": "stream",
     "text": [
      "C:\\Users\\bvptr\\anaconda3\\envs\\pulsar\\lib\\site-packages\\scipy\\optimize\\minpack.py:756: RuntimeWarning: divide by zero encountered in true_divide\n",
      "  transform = 1.0 / sigma\n",
      "C:\\Users\\bvptr\\anaconda3\\envs\\pulsar\\lib\\site-packages\\scipy\\optimize\\minpack.py:833: OptimizeWarning: Covariance of the parameters could not be estimated\n",
      "  warnings.warn('Covariance of the parameters could not be estimated',\n"
     ]
    }
   ],
   "source": [
    "params, params_covariance = optimize.curve_fit(sine, x, y, p0= [dist_guess, amp_guess, omega_guess, phi_guess], sigma=errors, method='lm')\n",
    "print( params )\n",
    "print( params_covariance )\n",
    "print( np.sqrt( np.diag(params_covariance) ) )"
   ]
  },
  {
   "cell_type": "code",
   "execution_count": 177,
   "metadata": {},
   "outputs": [],
   "source": [
    "B, A, omega, phi = params"
   ]
  },
  {
   "cell_type": "code",
   "execution_count": 178,
   "metadata": {},
   "outputs": [],
   "source": [
    "#B=0.00166275\n",
    "#A=-7.81285 * 10 ** -8\n",
    "#omega=.574299\n",
    "#phi=3.12734"
   ]
  },
  {
   "cell_type": "code",
   "execution_count": 179,
   "metadata": {},
   "outputs": [],
   "source": [
    "xx = np.linspace(0.34 + 5.63 * 10 **4, 0.46 + 5.63 * 10 **4, 50)\n",
    "yy = A * np.sin(omega * xx + phi) + B"
   ]
  },
  {
   "cell_type": "code",
   "execution_count": 180,
   "metadata": {},
   "outputs": [
    {
     "data": {
      "image/png": "[encoded data removed]",
      "text/plain": [
       "<Figure size 432x288 with 1 Axes>"
      ]
     },
     "metadata": {
      "needs_background": "light"
     },
     "output_type": "display_data"
    }
   ],
   "source": [
    "plt.plot(x, y, '.')\n",
    "plt.plot(xx, yy)\n",
    "plt.ticklabel_format(style = 'plain')"
   ]
  },
  {
   "cell_type": "markdown",
   "metadata": {},
   "source": [
    "## Repeating `lmfit` with MMA found parameters"
   ]
  },
  {
   "cell_type": "code",
   "execution_count": 181,
   "metadata": {},
   "outputs": [
    {
     "data": {
      "text/html": [
       "<h2> Model</h2> Model(sin) <h2>Fit Statistics</h2><table><tr><td>fitting method</td><td>leastsq</td><td></td></tr><tr><td># function evals</td><td>9</td><td></td></tr><tr><td># data points</td><td>10</td><td></td></tr><tr><td># variables</td><td>3</td><td></td></tr><tr><td>chi-square</td><td> 1.2912e+15</td><td></td></tr><tr><td>reduced chi-square</td><td> 1.8446e+14</td><td></td></tr><tr><td>Akaike info crit.</td><td> 330.917971</td><td></td></tr><tr><td>Bayesian info crit.</td><td> 331.825727</td><td></td></tr></table><h2>Variables</h2><table><tr><th> name </th><th> value </th><th> initial value </th><th> min </th><th> max </th><th> vary </th></tr><tr><td> amplitude </td><td>  7.7506e-08 </td><td> 7.61495e-08 </td><td>        -inf </td><td>         inf </td><td> True </td></tr><tr><td> omega </td><td>  39.2704065 </td><td> 39.2704 </td><td>        -inf </td><td>         inf </td><td> True </td></tr><tr><td> offset </td><td>  0.00166275 </td><td> 0.00166275 </td><td>        -inf </td><td>         inf </td><td> True </td></tr></table>"
      ],
      "text/plain": [
       "<lmfit.model.ModelResult at 0x21910a74d60>"
      ]
     },
     "execution_count": 181,
     "metadata": {},
     "output_type": "execute_result"
    }
   ],
   "source": [
    "#sin = lambda x, amplitude, omega, offset, phase: amplitude * np.sin(omega* x + phase) + offset # x needs to be given first.\n",
    "sin = lambda x, amplitude, omega, offset: amplitude * np.sin(omega* x) + offset # x needs to be given first.\n",
    "model_curve = models.Model(sin, name='sin')\n",
    "\n",
    "#params = Parameters()\n",
    "#params.add('offset', value=.00166275, vary=True)\n",
    "#params.add('amplitude', value=7.81285*10 ** -8, vary=True)\n",
    "#params.add('omega', value=41.3487, vary=True)\n",
    "#params.add('phase', value=-117036, vary=True)\n",
    "#fit = model_curve.fit(y, params, x=x, weights=1/errors2)\n",
    "\n",
    "#offset =  0.00166275\n",
    "#amplitude = 7.81285*10 ** -8\n",
    "#omega = 41.3487\n",
    "#phase =0\n",
    "\n",
    "offset = 0.00166275\n",
    "amplitude = 7.61495*10 ** -8\n",
    "omega = 39.2704\n",
    "#phase =0\n",
    "\n",
    "#fit = model_curve.fit(data=y, x=x, amplitude=amplitude, omega=omega, offset=offset, phase=phase, weights=1/errors2)\n",
    "fit = model_curve.fit(data=y, x=x, amplitude=amplitude, omega=omega, offset=offset, weights=1/errors2)\n",
    "fit"
   ]
  },
  {
   "cell_type": "code",
   "execution_count": 182,
   "metadata": {},
   "outputs": [
    {
     "data": {
      "image/png": "[encoded data removed]",
      "text/plain": [
       "<Figure size 432x432 with 2 Axes>"
      ]
     },
     "execution_count": 182,
     "metadata": {},
     "output_type": "execute_result"
    },
    {
     "data": {
      "image/png": "[encoded data removed]",
      "text/plain": [
       "<Figure size 432x432 with 2 Axes>"
      ]
     },
     "metadata": {
      "needs_background": "light"
     },
     "output_type": "display_data"
    }
   ],
   "source": [
    "fit.plot(xlabel=\"modified julian date (days)\", ylabel=\"period (s)\")"
   ]
  },
  {
   "cell_type": "code",
   "execution_count": 183,
   "metadata": {},
   "outputs": [
    {
     "data": {
      "text/plain": [
       "array([2.35309766e-09, 2.34352287e-09, 2.22914722e-09, 1.98804890e-19,\n",
       "       3.18894858e-09, 3.46808484e-09, 2.17267834e-09, 5.00000000e-09,\n",
       "       2.28219543e-09, 3.61563499e-09])"
      ]
     },
     "execution_count": 183,
     "metadata": {},
     "output_type": "execute_result"
    }
   ],
   "source": [
    "errors2"
   ]
  },
  {
   "cell_type": "code",
   "execution_count": null,
   "metadata": {},
   "outputs": [],
   "source": []
  }
 ],
 "metadata": {
  "interpreter": {
   "hash": "40d3a090f54c6569ab1632332b64b2c03c39dcf918b08424e98f38b5ae0af88f"
  },
  "kernelspec": {
   "display_name": "Python 3.8.3 64-bit ('base': conda)",
   "language": "python",
   "name": "python3"
  },
  "language_info": {
   "codemirror_mode": {
    "name": "ipython",
    "version": 3
   },
   "file_extension": ".py",
   "mimetype": "text/x-python",
   "name": "python",
   "nbconvert_exporter": "python",
   "pygments_lexer": "ipython3",
   "version": "3.9.7"
  },
  "orig_nbformat": 4
 },
 "nbformat": 4,
 "nbformat_minor": 2
}
