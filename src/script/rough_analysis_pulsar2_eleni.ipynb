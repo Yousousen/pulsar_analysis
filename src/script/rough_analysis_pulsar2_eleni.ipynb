{
 "cells": [
  {
   "cell_type": "markdown",
   "metadata": {},
   "source": [
    "## Visually inspected analysis"
   ]
  },
  {
   "cell_type": "code",
   "execution_count": 83,
   "metadata": {},
   "outputs": [],
   "source": [
    "import os\n",
    "import sys\n",
    "import glob\n",
    "from pathlib import Path\n",
    "import numpy as np\n",
    "import matplotlib.pyplot as plt\n",
    "import nbimporter\n",
    "from utility.utility import short_list, elements_containing_string, contains_substring, slice_string_at_char, get_metadata_item\n",
    "from utility.algorithm import peak_detect, n_max_frequencies, n_max_intensities\n",
    "from tqdm import tqdm\n",
    "from scipy.signal import find_peaks"
   ]
  },
  {
   "cell_type": "code",
   "execution_count": 84,
   "metadata": {},
   "outputs": [],
   "source": [
    "def import_files(path, dtype):\n",
    "    '''\n",
    "    Import files in the syntax that I used in the notebook. That is, choose the path that contains\n",
    "    all the files, then obtain all dat and inf files as dictionaries that can be accessed by filename. \n",
    "    '''\n",
    "\n",
    "    filename = \"*.dat\"\n",
    "    files =  [ p for p in Path(path).glob(filename) ]\n",
    "    file_dict = dict()\n",
    "    for file in files:\n",
    "        with open(file, 'rb') as f:\n",
    "            # key of the dict is the filename, value the data.\n",
    "            file_dict[os.path.basename(file)] = np.fromfile(f, np.float32)\n",
    "\n",
    "    metadata_dict = dict()\n",
    "    filename = \"*.inf\"\n",
    "    files =  [ p for p in Path(path).glob(filename) ]\n",
    "    for file in files:\n",
    "        with open(file) as f:\n",
    "            metadata_dict[os.path.basename(file)] = f.readlines()\n",
    "\n",
    "    return file_dict, metadata_dict \n",
    "\n",
    "dataset_dat = 'L83080_SAP0_BEAM0_DM39.66.dat'\n",
    "dataset_inf = 'L83080_SAP0_BEAM0_DM39.66.inf'\n",
    "\n",
    "# skipped datasets: 61, 78"
   ]
  },
  {
   "cell_type": "code",
   "execution_count": 85,
   "metadata": {},
   "outputs": [],
   "source": [
    "data_dict, metadata_dict = import_files(path=\"../../LOFAR_2e_jaars_RP_2022_voor_studenten/Data_Pulsar2\", dtype=\"float32\")\n",
    "nbins_dict = dict()\n",
    "dt_dict = dict()\n",
    "mjd_dict = dict()\n",
    "for key, val in metadata_dict.items():\n",
    "    nbins_dict[key] = int(get_metadata_item(metadata_dict[key], 'Number of bins in the time series'))\n",
    "    dt_dict[key] = float(get_metadata_item(metadata_dict[key], 'Width of each time series bin (sec)'))\n",
    "    mjd_dict[key] = float(get_metadata_item(metadata_dict[key], 'Epoch of observation (MJD)'))"
   ]
  },
  {
   "cell_type": "code",
   "execution_count": 86,
   "metadata": {},
   "outputs": [
    {
     "name": "stdout",
     "output_type": "stream",
     "text": [
      "2.04799998755334e-05\n",
      "8800000\n",
      "56300.45492639893\n"
     ]
    }
   ],
   "source": [
    "dt = list(dt_dict.values())[0]\n",
    "nbins = list(nbins_dict.values())[0]\n",
    "MJD = mjd_dict['L83080_SAP0_BEAM0_DM39.66.inf']\n",
    "print( dt )\n",
    "print( nbins )\n",
    "print(MJD)"
   ]
  },
  {
   "cell_type": "code",
   "execution_count": 87,
   "metadata": {},
   "outputs": [],
   "source": [
    "first_dataset = np.array(data_dict[dataset_dat])\n",
    "first_metadataset = metadata_dict[dataset_inf]"
   ]
  },
  {
   "cell_type": "code",
   "execution_count": 88,
   "metadata": {},
   "outputs": [],
   "source": [
    "dt = list(dt_dict.values())[0]\n",
    "nbins = list(nbins_dict.values())[0]\n",
    "\n",
    "frequencies_first_dataset  = np.fft.fftfreq(nbins, dt)[1:]\n",
    "transform_first_dataset = np.abs(np.fft.fft(first_dataset) / len(first_dataset))[1:]\n",
    "#half_index = int(len(transform_first_dataset)/2)\n",
    "#transform_first_dataset = transform_first_dataset[0:half_index]"
   ]
  },
  {
   "cell_type": "code",
   "execution_count": 89,
   "metadata": {},
   "outputs": [
    {
     "data": {
      "text/plain": [
       "[<matplotlib.lines.Line2D at 0x2e51acb0310>]"
      ]
     },
     "execution_count": 89,
     "metadata": {},
     "output_type": "execute_result"
    },
    {
     "data": {
      "image/png": "[encoded data removed]",
      "text/plain": [
       "<Figure size 432x288 with 1 Axes>"
      ]
     },
     "metadata": {
      "needs_background": "light"
     },
     "output_type": "display_data"
    }
   ],
   "source": [
    "plt.plot(transform_first_dataset)"
   ]
  },
  {
   "cell_type": "code",
   "execution_count": 90,
   "metadata": {},
   "outputs": [
    {
     "name": "stderr",
     "output_type": "stream",
     "text": [
      "100%|██████████| 56/56 [00:00<?, ?it/s]\n"
     ]
    }
   ],
   "source": [
    "height_threshold = 2 # Just reading off an appropriate value from the graph\n",
    "distance_between_peaks = 500\n",
    "peaks_index, properties = find_peaks(transform_first_dataset, height=height_threshold, distance=distance_between_peaks)\n",
    "peak_frequencies = [frequencies_first_dataset[i] for i in tqdm(peaks_index)]"
   ]
  },
  {
   "cell_type": "code",
   "execution_count": 91,
   "metadata": {},
   "outputs": [],
   "source": [
    "nharmonics = 5\n",
    "max_amplitudes = n_max_intensities(properties[\"peak_heights\"], n=(2 * nharmonics)) # 2x since the graph is symmetric.\n",
    "harmonics = n_max_frequencies( frequencies_first_dataset, transform_first_dataset,  max_amplitudes)"
   ]
  },
  {
   "cell_type": "code",
   "execution_count": 92,
   "metadata": {},
   "outputs": [
    {
     "data": {
      "text/plain": [
       "[<matplotlib.lines.Line2D at 0x2e51ade1730>,\n",
       " <matplotlib.lines.Line2D at 0x2e51ade1760>]"
      ]
     },
     "execution_count": 92,
     "metadata": {},
     "output_type": "execute_result"
    },
    {
     "data": {
      "image/png": "[encoded data removed]",
      "text/plain": [
       "<Figure size 432x288 with 1 Axes>"
      ]
     },
     "metadata": {
      "needs_background": "light"
     },
     "output_type": "display_data"
    }
   ],
   "source": [
    "# Just change the height threshold above if we want less peaks to be marked.\n",
    "plt.clf()\n",
    "plt.plot(frequencies_first_dataset, transform_first_dataset,'-', harmonics, max_amplitudes,'x')"
   ]
  },
  {
   "cell_type": "code",
   "execution_count": 93,
   "metadata": {},
   "outputs": [
    {
     "name": "stdout",
     "output_type": "stream",
     "text": [
      "0.027743253009517896\n",
      "2.8464577587765363\n",
      "6.669478023488103\n",
      "48.245516983551624\n",
      "93.33385177462011\n",
      "116.33300851951044\n",
      "185.33047875418146\n",
      "208.3296354990718\n",
      "231.32879224396214\n",
      "277.3271057337428\n",
      "323.32541922352345\n",
      "370.6609575083629\n",
      "393.66011425325325\n",
      "416.6592709981436\n",
      "601.3849468367175\n",
      "693.9863767318864\n",
      "799.9822491800505\n",
      "1018.6490207504686\n",
      "1202.769893673435\n",
      "1804.1603891607547\n",
      "2399.924552937744\n",
      "2405.545335997472\n",
      "3006.9302828341897\n",
      "3608.3152296709072\n",
      "4209.705725158226\n",
      "4799.860203176691\n",
      "7197.753949994139\n",
      "7201.748978427509\n",
      "-7201.748978427509\n",
      "-7197.753949994139\n",
      "-4799.860203176691\n",
      "-4209.705725158226\n",
      "-3608.3152296709072\n",
      "-3006.9302828341897\n",
      "-2405.545335997472\n",
      "-2399.924552937744\n",
      "-1804.1603891607547\n",
      "-1202.769893673435\n",
      "-1018.6490207504686\n",
      "-799.9822491800505\n",
      "-693.9863767318864\n",
      "-601.3849468367175\n",
      "-416.6592709981436\n",
      "-393.66011425325325\n",
      "-370.6609575083629\n",
      "-323.32541922352345\n",
      "-277.3271057337428\n",
      "-231.32879224396214\n",
      "-208.3296354990718\n",
      "-185.33047875418146\n",
      "-116.33300851951044\n",
      "-93.33385177462011\n",
      "-48.245516983551624\n",
      "-6.669478023488103\n",
      "-2.8464577587765363\n",
      "-0.027743253009517896\n",
      "Julian day (modified): 56300.45492639893\n"
     ]
    }
   ],
   "source": [
    "for peak in peak_frequencies:\n",
    "    print(peak)\n",
    "\n",
    "print('Julian day (modified):', MJD)"
   ]
  },
  {
   "cell_type": "code",
   "execution_count": 130,
   "metadata": {},
   "outputs": [
    {
     "name": "stdout",
     "output_type": "stream",
     "text": [
      "11\n",
      "11\n",
      "[0.0016627364046931813, 0.0016627953391468015, 0.0016633109334621597, 0.0016628308808149732, 0.0016628131097909664, 0.0016627767166011553, 0.0016627310867354046, 0.0016626928137830803, 0.0016626764262373586, 0.0016626879562865453, 0.001662710837899844]\n",
      "[56300.48270470806, 56300.4688155539, 56300.44103724313, 56300.42714808649, 56300.413258929024, 56300.39936977075, 56300.38548061164, 56300.35770229113, 56300.34381312978, 56300.32992396778, 56299.61949397883]\n"
     ]
    }
   ],
   "source": [
    "# found peaks:\n",
    "periods_datasets = []\n",
    "\n",
    "#29\n",
    "frequencies1 = [601.418238740329, (1202.836477480658/2), (1804.254716220987/3), (2405.672954961316/4), (3007.091193701645/5), (3608.509432441974/6)]\n",
    "period1 = 1/(np.mean(frequencies1))\n",
    "periods_datasets.append(period1)\n",
    "#79\n",
    "frequencies2 = [601.3960441379214, (1202.7920882758428/2), (1804.193681064366/3), (2405.5897252022874/4), (3006.9857693402087/5), (3608.38181347813/6)]\n",
    "period2 = 1/(np.mean(frequencies2))\n",
    "periods_datasets.append(period2)\n",
    "#80\n",
    "frequencies3 = [601.3849468367175, (1202.769893673435/2), (1804.1603891607547/3), (2405.545335997472/4), (3006.9302828341897/5), (3608.3152296709072/6), (4209.705725158226/7), (4799.860203176691/8)]\n",
    "period3 = 1/(np.mean(frequencies3))\n",
    "periods_datasets.append(period3)\n",
    "#81\n",
    "frequencies4 = [601.3849468367175, (1202.769893673435/2), (1804.1492918595509/3), (2405.5342386962684/4), (3006.919185532986/5), (3608.3041323697034/6)]\n",
    "period4 = 1/(np.mean(frequencies4))\n",
    "periods_datasets.append(period4)\n",
    "#82\n",
    "frequencies5 = [601.3904954873194, (1202.7809909746388/2), (1804.1714864619585/3), (2405.5619819492777/4), (3006.9524774365973/5), (3608.342972923917/6), (4209.733468411237/7)]\n",
    "period5 = 1/(np.mean(frequencies5))\n",
    "periods_datasets.append(period5)\n",
    "#83\n",
    "frequencies6 = [601.4015927885233, (1202.8087342276485/2), (1804.2103270161717/3), (2405.617468455297/4), (3007.01906124382/5), (3608.426202682945/6)]\n",
    "period6 = 1/(np.mean(frequencies6))\n",
    "periods_datasets.append(period6)\n",
    "#84\n",
    "frequencies7 = [601.418238740329, (1202.84202613126/2), (1804.2602648715888/3), (2405.68405226252/4), (3007.1022910028487/5)]\n",
    "period7 = 1/(np.mean(frequencies7))\n",
    "periods_datasets.append(period7)\n",
    "#85\n",
    "frequencies8 = [601.4348846921347, (1202.8697693842694/2), (1804.2991054258023/3), (2405.733990117937/4), (3007.1688748100714/5), (3608.6037595022062/6)]\n",
    "period8 = 1/(np.mean(frequencies8))\n",
    "periods_datasets.append(period8)\n",
    "#86\n",
    "frequencies9 = [601.4404333427366, (1202.8808666854732/2), (1804.3213000282099/3), (2405.7561847203447/4), (3007.196618063081/5),]\n",
    "period9 = 1/(np.mean(frequencies9))\n",
    "periods_datasets.append(period9)\n",
    "#87\n",
    "frequencies10 = [601.4348846921347, (1202.8697693842694/2), (1804.310202727006/3), (2405.745087419141/4), (3007.179972111275/5), (3608.61485680341/6)]\n",
    "period10 = 1/(np.mean(frequencies10))\n",
    "periods_datasets.append(period10)\n",
    "#88\n",
    "frequencies11 = [601.4293360415328, (1202.8531234324637/2), (1804.2824594739964/3), (2405.7062468649274/4)]\n",
    "period11 = 1/(np.mean(frequencies11))\n",
    "periods_datasets.append(period11)\n",
    "\n",
    "\n",
    "# found MJD's\n",
    "list_MJD =  list( mjd_dict.values() )\n",
    "# but we skip the following datasets for now:\n",
    "del list_MJD[1] # skip dataset 2\n",
    "del list_MJD[2] # skip dataset 3\n",
    "del list_MJD[-1] # skip dataset 14\n",
    "\n",
    "list_MJD = list(reversed(sorted(list_MJD)))\n",
    "\n",
    "print(len(list_MJD))\n",
    "print(len(periods_datasets))\n",
    "print(periods_datasets)\n",
    "print(list_MJD)\n",
    "\n"
   ]
  },
  {
   "cell_type": "code",
   "execution_count": 138,
   "metadata": {},
   "outputs": [
    {
     "data": {
      "text/plain": [
       "[<matplotlib.lines.Line2D at 0x7fa6f7eb3dc0>]"
      ]
     },
     "execution_count": 138,
     "metadata": {},
     "output_type": "execute_result"
    },
    {
     "data": {
      "image/png": "[encoded data removed]",
      "text/plain": [
       "<Figure size 432x288 with 1 Axes>"
      ]
     },
     "metadata": {
      "needs_background": "light"
     },
     "output_type": "display_data"
    }
   ],
   "source": [
    "plt.scatter(list_MJD, periods_datasets)\n",
    "\n",
    "annotations = range(1, len(periods_datasets) + 1)\n",
    "\n",
    "for i, label in enumerate(annotations):\n",
    "    plt.annotate(label, (list_MJD[i], periods_datasets[i]))\n",
    "\n",
    "l_x = [x for x in np.arange(min(list_MJD), max(list_MJD), dt)]\n",
    "#l_x = [x for x in np.arange(-np.pi, np.pi, 0.01)]\n",
    "\n",
    "def sin_model(x, A, B, c, d):\n",
    "    return A + B*np.sin(c*np.pi*x -d)\n",
    "\n",
    "l_y = [sin_model(x, A=0.0016628, B=0.0000001, c=20, d=0) for x in l_x]\n",
    "\n",
    "plt.plot(l_x,l_y)"
   ]
  },
  {
   "cell_type": "markdown",
   "metadata": {},
   "source": [
    "## fit first try"
   ]
  },
  {
   "cell_type": "code",
   "execution_count": 153,
   "metadata": {},
   "outputs": [
    {
     "data": {
      "text/plain": [
       "[<matplotlib.lines.Line2D at 0x7fa6fea58ac0>]"
      ]
     },
     "execution_count": 153,
     "metadata": {},
     "output_type": "execute_result"
    },
    {
     "data": {
      "image/png": "[encoded data removed]",
      "text/plain": [
       "<Figure size 432x288 with 1 Axes>"
      ]
     },
     "metadata": {
      "needs_background": "light"
     },
     "output_type": "display_data"
    }
   ],
   "source": []
  },
  {
   "cell_type": "markdown",
   "metadata": {},
   "source": [
    "## Repeating the analysis, but automized."
   ]
  },
  {
   "cell_type": "markdown",
   "metadata": {},
   "source": [
    "The automatisation of what we did above is straightforward in principle, it is a matter of creating array versions of all the relevant variables, with the $i$ th element corresponding to the $i$ th dataset. It is then a matter of bookkeeping and of making sure we translate everything correctly."
   ]
  },
  {
   "cell_type": "code",
   "execution_count": 144,
   "metadata": {},
   "outputs": [],
   "source": [
    "frequencies = []\n",
    "transforms = []\n",
    "for val in data_dict.values():\n",
    "    frequencies.append( ( np.fft.fftfreq(nbins, dt) )[1:] )\n",
    "    transforms.append( np.abs( ( np.fft.fft(val) / len(val) )[1:] ) )  # division is to normalize the transform."
   ]
  },
  {
   "cell_type": "markdown",
   "metadata": {},
   "source": [
    "For now we still ignore datasets 2,3 and 14."
   ]
  },
  {
   "cell_type": "code",
   "execution_count": 145,
   "metadata": {},
   "outputs": [],
   "source": [
    "del frequencies[2]\n",
    "del frequencies[3]\n",
    "del frequencies[-1]"
   ]
  },
  {
   "cell_type": "code",
   "execution_count": 146,
   "metadata": {},
   "outputs": [],
   "source": [
    "# TODO: It would be great to create numpy arrays to do this step immediately two cells above,\n",
    "# but the delete operator is not defined for numpy arrays, so we only convert to numpy arrays afterwards.\n",
    "frequencies = np.array(frequencies)\n",
    "transforms = np.array(transforms)"
   ]
  },
  {
   "cell_type": "code",
   "execution_count": 168,
   "metadata": {},
   "outputs": [],
   "source": [
    "#for f, t in zip(frequencies, transforms):\n",
    "#    plt.plot(f, np.abs(t) )\n",
    "#    plt.xlim(0) # to remove the symmetry from the plot.\n",
    "#    plt.figure()"
   ]
  },
  {
   "cell_type": "code",
   "execution_count": 148,
   "metadata": {},
   "outputs": [],
   "source": [
    "height_threshold = 2 # Just reading off an appropriate value from the graph\n",
    "distance_between_peaks = 500"
   ]
  },
  {
   "cell_type": "code",
   "execution_count": 149,
   "metadata": {},
   "outputs": [
    {
     "name": "stderr",
     "output_type": "stream",
     "text": [
      "100%|██████████| 52/52 [00:00<00:00, 52416.20it/s]\n",
      "100%|██████████| 82/82 [00:00<00:00, 67345.39it/s]\n",
      "100%|██████████| 52/52 [00:00<00:00, 52040.99it/s]\n",
      "100%|██████████| 58/58 [00:00<00:00, 56666.58it/s]\n",
      "100%|██████████| 56/56 [00:00<00:00, 75306.52it/s]\n",
      "100%|██████████| 54/54 [00:00<00:00, 115557.36it/s]\n",
      "100%|██████████| 52/52 [00:00<00:00, 51818.44it/s]\n",
      "100%|██████████| 58/58 [00:00<?, ?it/s]\n",
      "100%|██████████| 52/52 [00:00<?, ?it/s]\n",
      "100%|██████████| 58/58 [00:00<00:00, 57893.77it/s]\n",
      "100%|██████████| 66/66 [00:00<?, ?it/s]"
     ]
    },
    {
     "name": "stdout",
     "output_type": "stream",
     "text": [
      "<class 'numpy.ndarray'>\n",
      "<class 'numpy.ndarray'>\n",
      "<class 'list'>\n"
     ]
    },
    {
     "name": "stderr",
     "output_type": "stream",
     "text": [
      "\n",
      "C:\\Users\\bvptr\\AppData\\Local\\Temp/ipykernel_16280/1825242877.py:11: VisibleDeprecationWarning: Creating an ndarray from ragged nested sequences (which is a list-or-tuple of lists-or-tuples-or ndarrays with different lengths or shapes) is deprecated. If you meant to do this, you must specify 'dtype=object' when creating the ndarray.\n",
      "  peak_indices = np.array( peak_indices )\n",
      "C:\\Users\\bvptr\\AppData\\Local\\Temp/ipykernel_16280/1825242877.py:12: VisibleDeprecationWarning: Creating an ndarray from ragged nested sequences (which is a list-or-tuple of lists-or-tuples-or ndarrays with different lengths or shapes) is deprecated. If you meant to do this, you must specify 'dtype=object' when creating the ndarray.\n",
      "  peak_heights = np.array( peak_heights )\n"
     ]
    }
   ],
   "source": [
    "peak_indices = []\n",
    "peak_heights = []\n",
    "peak_frequencies = []\n",
    "for i, (f, t) in enumerate( zip( frequencies, transforms ) ):\n",
    "    indices, props = find_peaks(t, height=height_threshold, distance=distance_between_peaks)\n",
    "    peak_indices.append(indices)\n",
    "    peak_heights.append(props[\"peak_heights\"])\n",
    "    \n",
    "    peak_frequencies.append( [f for i in tqdm(peak_indices[i])] )\n",
    "\n",
    "peak_indices = np.array( peak_indices )\n",
    "peak_heights = np.array( peak_heights )\n",
    "# NOTE: converting peak_frequencies to np array takes too much memory.\n",
    "#peak_frequencies = np.array( peak_frequencies )\n",
    "print(type(peak_indices))\n",
    "print(type(peak_heights))\n",
    "print(type(peak_frequencies))"
   ]
  },
  {
   "cell_type": "code",
   "execution_count": 150,
   "metadata": {},
   "outputs": [],
   "source": [
    "nharmonics = 5"
   ]
  },
  {
   "cell_type": "code",
   "execution_count": 162,
   "metadata": {},
   "outputs": [],
   "source": [
    "max_amplitudes = []\n",
    "harmonics = []\n",
    "\n",
    "for i, (f, t, h) in enumerate( zip( frequencies, transforms, peak_heights) ):\n",
    "    max_amplitudes.append( n_max_intensities(peak_heights[i], n=(2 * nharmonics)) ) # 2x since the graph is symmetric.\n",
    "    harmonics.append( n_max_frequencies( f, t,  max_amplitudes[i]) )\n",
    "\n",
    "max_amplitudes = np.array( max_amplitudes )\n",
    "harmonics = np.array( harmonics )"
   ]
  },
  {
   "cell_type": "code",
   "execution_count": 153,
   "metadata": {},
   "outputs": [
    {
     "data": {
      "image/png": "[encoded data removed]",
      "text/plain": [
       "<Figure size 432x288 with 1 Axes>"
      ]
     },
     "metadata": {
      "needs_background": "light"
     },
     "output_type": "display_data"
    },
    {
     "data": {
      "image/png": "[encoded data removed]",
      "text/plain": [
       "<Figure size 432x288 with 1 Axes>"
      ]
     },
     "metadata": {
      "needs_background": "light"
     },
     "output_type": "display_data"
    },
    {
     "data": {
      "image/png": "[encoded data removed]",
      "text/plain": [
       "<Figure size 432x288 with 1 Axes>"
      ]
     },
     "metadata": {
      "needs_background": "light"
     },
     "output_type": "display_data"
    },
    {
     "data": {
      "image/png": "[encoded data removed]",
      "text/plain": [
       "<Figure size 432x288 with 1 Axes>"
      ]
     },
     "metadata": {
      "needs_background": "light"
     },
     "output_type": "display_data"
    },
    {
     "data": {
      "image/png": "[encoded data removed]",
      "text/plain": [
       "<Figure size 432x288 with 1 Axes>"
      ]
     },
     "metadata": {
      "needs_background": "light"
     },
     "output_type": "display_data"
    },
    {
     "data": {
      "image/png": "[encoded data removed]",
      "text/plain": [
       "<Figure size 432x288 with 1 Axes>"
      ]
     },
     "metadata": {
      "needs_background": "light"
     },
     "output_type": "display_data"
    },
    {
     "data": {
      "image/png": "[encoded data removed]",
      "text/plain": [
       "<Figure size 432x288 with 1 Axes>"
      ]
     },
     "metadata": {
      "needs_background": "light"
     },
     "output_type": "display_data"
    },
    {
     "data": {
      "image/png": "[encoded data removed]",
      "text/plain": [
       "<Figure size 432x288 with 1 Axes>"
      ]
     },
     "metadata": {
      "needs_background": "light"
     },
     "output_type": "display_data"
    },
    {
     "data": {
      "image/png": "[encoded data removed]",
      "text/plain": [
       "<Figure size 432x288 with 1 Axes>"
      ]
     },
     "metadata": {
      "needs_background": "light"
     },
     "output_type": "display_data"
    },
    {
     "data": {
      "image/png": "[encoded data removed]",
      "text/plain": [
       "<Figure size 432x288 with 1 Axes>"
      ]
     },
     "metadata": {
      "needs_background": "light"
     },
     "output_type": "display_data"
    },
    {
     "data": {
      "image/png": "[encoded data removed]",
      "text/plain": [
       "<Figure size 432x288 with 1 Axes>"
      ]
     },
     "metadata": {
      "needs_background": "light"
     },
     "output_type": "display_data"
    },
    {
     "data": {
      "text/plain": [
       "<Figure size 432x288 with 0 Axes>"
      ]
     },
     "metadata": {},
     "output_type": "display_data"
    }
   ],
   "source": [
    "for f, t, h, a in zip( frequencies, transforms, harmonics, max_amplitudes):\n",
    "    plt.clf()\n",
    "    plt.plot(f, t,'-', h, a,'x')\n",
    "    plt.figure()"
   ]
  },
  {
   "cell_type": "markdown",
   "metadata": {},
   "source": [
    "We now do a series of operations on our found harmonics to calculate other quantities\n",
    "\n",
    "Let us discard negative (unphysical) harmonics."
   ]
  },
  {
   "cell_type": "code",
   "execution_count": 166,
   "metadata": {},
   "outputs": [
    {
     "name": "stderr",
     "output_type": "stream",
     "text": [
      "C:\\Users\\bvptr\\AppData\\Local\\Temp/ipykernel_16280/1231146584.py:1: VisibleDeprecationWarning: Creating an ndarray from ragged nested sequences (which is a list-or-tuple of lists-or-tuples-or ndarrays with different lengths or shapes) is deprecated. If you meant to do this, you must specify 'dtype=object' when creating the ndarray.\n",
      "  harmonics = np.array( [ list( filter( lambda el: el > 0, x)  ) for x in harmonics ] )\n"
     ]
    }
   ],
   "source": [
    "harmonics = np.array( [ list( filter( lambda el: el > 0, x)  ) for x in harmonics ] )"
   ]
  },
  {
   "cell_type": "markdown",
   "metadata": {},
   "source": [
    "Discard frequencies that certainly are not harmonics."
   ]
  },
  {
   "cell_type": "code",
   "execution_count": 169,
   "metadata": {},
   "outputs": [
    {
     "name": "stderr",
     "output_type": "stream",
     "text": [
      "C:\\Users\\bvptr\\AppData\\Local\\Temp/ipykernel_16280/3747825511.py:2: VisibleDeprecationWarning: Creating an ndarray from ragged nested sequences (which is a list-or-tuple of lists-or-tuples-or ndarrays with different lengths or shapes) is deprecated. If you meant to do this, you must specify 'dtype=object' when creating the ndarray.\n",
      "  harmonics = np.array( [ list( filter( lambda el: el > estimated_fundamental, x)  ) for x in harmonics ] )\n"
     ]
    }
   ],
   "source": [
    "estimated_fundamental = 600\n",
    "harmonics = np.array( [ list( filter( lambda el: el > estimated_fundamental, x)  ) for x in harmonics ] )"
   ]
  },
  {
   "cell_type": "markdown",
   "metadata": {},
   "source": [
    "Now, we have got a pretty great idea of what is the fundamental and what is the $i$ th harmonic. We use this knowledge to now accurately determine the period.\n",
    "\n",
    "We use the following rationale $\\left( i \\text{th harmonic} \\right) = \\left( i \\cdot \\text{estimated fundamental} \\pm \\varepsilon \\right)$\n",
    "\n",
    "Better still is to go through our found harmonics and determine which harmonic we are dealing with too."
   ]
  },
  {
   "cell_type": "markdown",
   "metadata": {},
   "source": [
    "## test fit"
   ]
  },
  {
   "cell_type": "code",
   "execution_count": 54,
   "metadata": {},
   "outputs": [
    {
     "name": "stdout",
     "output_type": "stream",
     "text": [
      "11\n",
      "11\n",
      "[0.0016627364046931813, 0.0016627953391468015, 0.0016633109334621597, 0.0016628308808149732, 0.0016628131097909664, 0.0016627767166011553, 0.0016627310867354046, 0.0016626928137830803, 0.0016626764262373586, 0.0016626879562865453, 0.001662710837899844]\n",
      "[56299.61949397883, 56300.44103724313, 56300.38548061164, 56300.42714808649, 56300.34381312978, 56300.48270470806, 56300.4688155539, 56300.32992396778, 56300.413258929024, 56300.39936977075, 56300.35770229113]\n"
     ]
    }
   ],
   "source": [
    "# DON'T RUN, this is here for reference.\n",
    "\n",
    "# found peaks:\n",
    "periods_datasets = []\n",
    "\n",
    "#29\n",
    "frequencies1 = [601.418238740329, (1202.836477480658/2), (1804.254716220987/3), (2405.672954961316/4), (3007.091193701645/5), (3608.509432441974/6)]\n",
    "period1 = 1/(np.mean(frequencies1))\n",
    "periods_datasets.append(period1)\n",
    "#79\n",
    "frequencies2 = [601.3960441379214, (1202.7920882758428/2), (1804.193681064366/3), (2405.5897252022874/4), (3006.9857693402087/5), (3608.38181347813/6)]\n",
    "period2 = 1/(np.mean(frequencies2))\n",
    "periods_datasets.append(period2)\n",
    "#80\n",
    "frequencies3 = [601.3849468367175, (1202.769893673435/2), (1804.1603891607547/3), (2405.545335997472/4), (3006.9302828341897/5), (3608.3152296709072/6), (4209.705725158226/7), (4799.860203176691/8)]\n",
    "period3 = 1/(np.mean(frequencies3))\n",
    "periods_datasets.append(period3)\n",
    "#81\n",
    "frequencies4 = [601.3849468367175, (1202.769893673435/2), (1804.1492918595509/3), (2405.5342386962684/4), (3006.919185532986/5), (3608.3041323697034/6)]\n",
    "period4 = 1/(np.mean(frequencies4))\n",
    "periods_datasets.append(period4)\n",
    "#82\n",
    "frequencies5 = [601.3904954873194, (1202.7809909746388/2), (1804.1714864619585/3), (2405.5619819492777/4), (3006.9524774365973/5), (3608.342972923917/6), (4209.733468411237/7)]\n",
    "period5 = 1/(np.mean(frequencies5))\n",
    "periods_datasets.append(period5)\n",
    "#83\n",
    "frequencies6 = [601.4015927885233, (1202.8087342276485/2), (1804.2103270161717/3), (2405.617468455297/4), (3007.01906124382/5), (3608.426202682945/6)]\n",
    "period6 = 1/(np.mean(frequencies6))\n",
    "periods_datasets.append(period6)\n",
    "#84\n",
    "frequencies7 = [601.418238740329, (1202.84202613126/2), (1804.2602648715888/3), (2405.68405226252/4), (3007.1022910028487/5)]\n",
    "period7 = 1/(np.mean(frequencies7))\n",
    "periods_datasets.append(period7)\n",
    "#85\n",
    "frequencies8 = [601.4348846921347, (1202.8697693842694/2), (1804.2991054258023/3), (2405.733990117937/4), (3007.1688748100714/5), (3608.6037595022062/6)]\n",
    "period8 = 1/(np.mean(frequencies8))\n",
    "periods_datasets.append(period8)\n",
    "#86\n",
    "frequencies9 = [601.4404333427366, (1202.8808666854732/2), (1804.3213000282099/3), (2405.7561847203447/4), (3007.196618063081/5),]\n",
    "period9 = 1/(np.mean(frequencies9))\n",
    "periods_datasets.append(period9)\n",
    "#87\n",
    "frequencies10 = [601.4348846921347, (1202.8697693842694/2), (1804.310202727006/3), (2405.745087419141/4), (3007.179972111275/5), (3608.61485680341/6)]\n",
    "period10 = 1/(np.mean(frequencies10))\n",
    "periods_datasets.append(period10)\n",
    "#88\n",
    "frequencies11 = [601.4293360415328, (1202.8531234324637/2), (1804.2824594739964/3), (2405.7062468649274/4)]\n",
    "period11 = 1/(np.mean(frequencies11))\n",
    "periods_datasets.append(period11)\n",
    "\n",
    "\n",
    "# found MJD's\n",
    "list_MJD =  list( mjd_dict.values() )\n",
    "# but we skip the following datasets for now:\n",
    "del list_MJD[1] # skip dataset 2\n",
    "del list_MJD[2] # skip dataset 3\n",
    "del list_MJD[-1] # skip dataset 14\n",
    "\n",
    "\n",
    "print(len(list_MJD))\n",
    "print(len(periods_datasets))\n",
    "print(periods_datasets)\n",
    "print(list_MJD)\n"
   ]
  },
  {
   "cell_type": "code",
   "execution_count": 51,
   "metadata": {},
   "outputs": [],
   "source": []
  }
 ],
 "metadata": {
  "interpreter": {
   "hash": "40d3a090f54c6569ab1632332b64b2c03c39dcf918b08424e98f38b5ae0af88f"
  },
  "kernelspec": {
   "display_name": "Python 3.8.3 64-bit ('base': conda)",
   "language": "python",
   "name": "python3"
  },
  "language_info": {
   "codemirror_mode": {
    "name": "ipython",
    "version": 3
   },
   "file_extension": ".py",
   "mimetype": "text/x-python",
   "name": "python",
   "nbconvert_exporter": "python",
   "pygments_lexer": "ipython3",
   "version": "3.9.7"
  },
  "orig_nbformat": 4
 },
 "nbformat": 4,
 "nbformat_minor": 2
}
