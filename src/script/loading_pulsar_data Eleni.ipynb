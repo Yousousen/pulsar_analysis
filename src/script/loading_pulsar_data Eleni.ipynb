{
 "cells": [
  {
   "cell_type": "markdown",
   "metadata": {},
   "source": [
    "## Data of Hessel's pulsar"
   ]
  },
  {
   "cell_type": "markdown",
   "metadata": {},
   "source": [
    "This data consists of multiple seperate files, so we have to load them all in with their metadata."
   ]
  },
  {
   "cell_type": "code",
   "execution_count": 2,
   "metadata": {},
   "outputs": [],
   "source": [
    "import os\n",
    "import sys\n",
    "import glob\n",
    "from pathlib import Path\n",
    "import numpy as np\n",
    "import matplotlib.pyplot as plt\n",
    "import nbimporter\n",
    "from utility.utility import short_list, elements_containing_string, contains_substring, slice_string_at_char, get_metadata_item\n",
    "from utility.algorithm import peak_detect\n",
    "\n",
    "def import_files(path, dtype):\n",
    "    '''\n",
    "    Import files in the syntax that I used in the notebook. That is, choose the path that contains\n",
    "    all the files, then obtain all dat and inf files as dictionaries that can be accessed by filename. \n",
    "    '''\n",
    "\n",
    "    filename = \"*.dat\"\n",
    "    files =  [ p for p in Path(path).glob(filename) ]\n",
    "    file_dict = dict()\n",
    "    for file in files:\n",
    "        with open(file, 'rb') as f:\n",
    "            # key of the dict is the filename, value the data.\n",
    "            file_dict[os.path.basename(file)] = np.fromfile(f, np.float32)\n",
    "\n",
    "    metadata_dict = dict()\n",
    "    filename = \"*.inf\"\n",
    "    files =  [ p for p in Path(path).glob(filename) ]\n",
    "    for file in files:\n",
    "        with open(file) as f:\n",
    "            metadata_dict[os.path.basename(file)] = f.readlines()\n",
    "\n",
    "    return file_dict, metadata_dict "
   ]
  },
  {
   "cell_type": "code",
   "execution_count": 3,
   "metadata": {},
   "outputs": [],
   "source": [
    "data_dict, metadata_dict = import_files(path=\"../../LOFAR_2e_jaars_RP_2022_voor_studenten/Data_Pulsar2\", dtype=\"float32\")"
   ]
  },
  {
   "cell_type": "code",
   "execution_count": 4,
   "metadata": {},
   "outputs": [
    {
     "name": "stdout",
     "output_type": "stream",
     "text": [
      "43037.0,\t43082.0,\t...\t,44427.1015625,\t44427.1015625\n",
      " Data file name without suffix          =  L83079_SAP0_BEAM0_DM39.66\n",
      ",\t Telescope used                         =  LOFAR\n",
      ",\t...\t,\n",
      ",\t\n",
      "\n"
     ]
    }
   ],
   "source": [
    "print(short_list(data_dict['L83079_SAP0_BEAM0_DM39.66.dat']))\n",
    "print(short_list(metadata_dict['L83079_SAP0_BEAM0_DM39.66.inf']))"
   ]
  },
  {
   "cell_type": "code",
   "execution_count": 18,
   "metadata": {},
   "outputs": [
    {
     "data": {
      "text/plain": [
       "[' Data file name without suffix          =  L83029_SAP0_BEAM0_DM39.66\\n',\n",
       " ' Telescope used                         =  LOFAR\\n',\n",
       " ' Instrument used                        =  HBA_110_190\\n',\n",
       " ' Object being observed                  =  J1810+1715\\n',\n",
       " ' J2000 Right Ascension (hh:mm:ss.ssss)  =  18:10:37.0000\\n',\n",
       " ' J2000 Declination     (dd:mm:ss.ssss)  =  17:44:37.0000\\n',\n",
       " ' Data observed by                       =  Unknown\\n',\n",
       " ' Epoch of observation (MJD)             =  56299.364628335424641\\n',\n",
       " ' Barycentered?           (1 yes, 0 no)  =  1\\n',\n",
       " ' Number of bins in the time series      =  8800000    \\n',\n",
       " ' Width of each time series bin (sec)    =  2.04799998755334e-05\\n',\n",
       " ' Any breaks in the data? (1 yes, 0 no)  =  1\\n',\n",
       " ' On/Off bin pair #  1                   =  0          , 8467354    \\n',\n",
       " ' On/Off bin pair #  2                   =  8799999    , 8799999    \\n',\n",
       " ' Type of observation (EM band)          =  Radio\\n',\n",
       " ' Beam diameter (arcsec)                 =  0\\n',\n",
       " ' Dispersion measure (cm-3 pc)           =  39.66\\n',\n",
       " ' Central freq of low channel (MHz)      =  109.9609375\\n',\n",
       " ' Total bandwidth (MHz)                  =  68.359375\\n',\n",
       " ' Number of channels                     =  350\\n',\n",
       " ' Channel bandwidth (MHz)                =  0.1953125\\n',\n",
       " ' Data analyzed by                       =  hessels\\n',\n",
       " ' Any additional notes:\\n',\n",
       " '    Project ID , Date: 2013-01-07T08:50:00.\\n',\n",
       " '    1 polns were not summed.  Samples have 8 bits.\\n',\n",
       " '\\n',\n",
       " '\\n']"
      ]
     },
     "execution_count": 18,
     "metadata": {},
     "output_type": "execute_result"
    }
   ],
   "source": [
    "metadata_dict['L83029_SAP0_BEAM0_DM39.66.inf']"
   ]
  },
  {
   "cell_type": "code",
   "execution_count": 19,
   "metadata": {},
   "outputs": [
    {
     "data": {
      "text/plain": [
       "[' Data file name without suffix          =  L83061_SAP0_BEAM0_DM39.66\\n',\n",
       " ' Telescope used                         =  LOFAR\\n',\n",
       " ' Instrument used                        =  HBA_110_190\\n',\n",
       " ' Object being observed                  =  J1810+1715\\n',\n",
       " ' J2000 Right Ascension (hh:mm:ss.ssss)  =  18:10:37.0000\\n',\n",
       " ' J2000 Declination     (dd:mm:ss.ssss)  =  17:44:37.0000\\n',\n",
       " ' Data observed by                       =  Unknown\\n',\n",
       " ' Epoch of observation (MJD)             =  56299.619493978832907\\n',\n",
       " ' Barycentered?           (1 yes, 0 no)  =  1\\n',\n",
       " ' Number of bins in the time series      =  8800000    \\n',\n",
       " ' Width of each time series bin (sec)    =  2.04799998755334e-05\\n',\n",
       " ' Any breaks in the data? (1 yes, 0 no)  =  1\\n',\n",
       " ' On/Off bin pair #  1                   =  0          , 8467346    \\n',\n",
       " ' On/Off bin pair #  2                   =  8799999    , 8799999    \\n',\n",
       " ' Type of observation (EM band)          =  Radio\\n',\n",
       " ' Beam diameter (arcsec)                 =  0\\n',\n",
       " ' Dispersion measure (cm-3 pc)           =  39.66\\n',\n",
       " ' Central freq of low channel (MHz)      =  109.9609375\\n',\n",
       " ' Total bandwidth (MHz)                  =  68.359375\\n',\n",
       " ' Number of channels                     =  350\\n',\n",
       " ' Channel bandwidth (MHz)                =  0.1953125\\n',\n",
       " ' Data analyzed by                       =  hessels\\n',\n",
       " ' Any additional notes:\\n',\n",
       " '    Project ID , Date: 2013-01-07T14:57:00.\\n',\n",
       " '    1 polns were not summed.  Samples have 8 bits.\\n',\n",
       " '\\n',\n",
       " '\\n']"
      ]
     },
     "execution_count": 19,
     "metadata": {},
     "output_type": "execute_result"
    }
   ],
   "source": [
    "metadata_dict['L83061_SAP0_BEAM0_DM39.66.inf']"
   ]
  },
  {
   "cell_type": "code",
   "execution_count": 5,
   "metadata": {},
   "outputs": [],
   "source": [
    "nbins_dict = dict()\n",
    "dt_dict = dict()\n",
    "for key, val in metadata_dict.items():\n",
    "    nbins_dict[key] = int(get_metadata_item(metadata_dict['L83061_SAP0_BEAM0_DM39.66.inf'], 'Number of bins in the time series'))\n",
    "    dt_dict[key] = float(get_metadata_item(metadata_dict['L83061_SAP0_BEAM0_DM39.66.inf'], 'Width of each time series bin (sec)'))"
   ]
  },
  {
   "cell_type": "code",
   "execution_count": 6,
   "metadata": {},
   "outputs": [
    {
     "data": {
      "text/plain": [
       "dict_values([8800000, 8800000, 8800000, 8800000, 8800000, 8800000, 8800000, 8800000, 8800000, 8800000, 8800000, 8800000, 8800000, 8800000])"
      ]
     },
     "execution_count": 6,
     "metadata": {},
     "output_type": "execute_result"
    }
   ],
   "source": [
    "nbins_dict.values()"
   ]
  },
  {
   "cell_type": "code",
   "execution_count": 7,
   "metadata": {},
   "outputs": [
    {
     "data": {
      "text/plain": [
       "dict_values([2.04799998755334e-05, 2.04799998755334e-05, 2.04799998755334e-05, 2.04799998755334e-05, 2.04799998755334e-05, 2.04799998755334e-05, 2.04799998755334e-05, 2.04799998755334e-05, 2.04799998755334e-05, 2.04799998755334e-05, 2.04799998755334e-05, 2.04799998755334e-05, 2.04799998755334e-05, 2.04799998755334e-05])"
      ]
     },
     "execution_count": 7,
     "metadata": {},
     "output_type": "execute_result"
    }
   ],
   "source": [
    "dt_dict.values()"
   ]
  },
  {
   "cell_type": "code",
   "execution_count": 8,
   "metadata": {},
   "outputs": [
    {
     "name": "stdout",
     "output_type": "stream",
     "text": [
      "2.04799998755334e-05\n",
      "8800000\n"
     ]
    }
   ],
   "source": [
    "dt = list(dt_dict.values())[0]\n",
    "nbins = list(nbins_dict.values())[0]\n",
    "print( dt )\n",
    "print( nbins )"
   ]
  },
  {
   "cell_type": "code",
   "execution_count": 9,
   "metadata": {},
   "outputs": [],
   "source": [
    "total_time = nbins * dt\n",
    "time = [t*dt for t in np.arange(0, nbins)]"
   ]
  },
  {
   "cell_type": "code",
   "execution_count": 10,
   "metadata": {},
   "outputs": [
    {
     "data": {
      "text/plain": [
       "[<matplotlib.lines.Line2D at 0x7f87251143a0>]"
      ]
     },
     "execution_count": 10,
     "metadata": {},
     "output_type": "execute_result"
    },
    {
     "data": {
      "image/png": "[encoded data removed]",
      "text/plain": [
       "<Figure size 432x288 with 1 Axes>"
      ]
     },
     "metadata": {
      "needs_background": "light"
     },
     "output_type": "display_data"
    },
    {
     "data": {
      "image/png": "[encoded data removed]",
      "text/plain": [
       "<Figure size 432x288 with 1 Axes>"
      ]
     },
     "metadata": {
      "needs_background": "light"
     },
     "output_type": "display_data"
    }
   ],
   "source": [
    "plt.plot(time, data_dict['L83029_SAP0_BEAM0_DM39.66.dat'])\n",
    "plt.figure()\n",
    "plt.plot(time, data_dict['L83061_SAP0_BEAM0_DM39.66.dat'])"
   ]
  },
  {
   "cell_type": "code",
   "execution_count": 26,
   "metadata": {},
   "outputs": [],
   "source": [
    "#for val in data_dict.values():\n",
    "#    plt.plot(time, val)\n",
    "#    plt.figure()"
   ]
  },
  {
   "cell_type": "code",
   "execution_count": 27,
   "metadata": {},
   "outputs": [],
   "source": [
    "#for val in data_dict.values():\n",
    "#    frequencies  = np.fft.fftfreq(nbins, dt)\n",
    "#    #transform = np.fft.fft(val) / len(val) # normalize the transform.\n",
    "#    transform = np.fft.fft(val) / len(val) # normalize the transform.\n",
    "#    plt.plot(frequencies[1:], abs(transform[1:]))\n",
    "#    plt.xlim(0) # to remove the symmetry from the plot.\n",
    "#    plt.figure()"
   ]
  },
  {
   "cell_type": "code",
   "execution_count": 11,
   "metadata": {},
   "outputs": [],
   "source": [
    "frequencies  = np.fft.fftfreq(nbins, dt)[1:]\n",
    "transform_abs = np.abs( np.fft.fft(data_dict['L83029_SAP0_BEAM0_DM39.66.dat']) / len(data_dict['L83029_SAP0_BEAM0_DM39.66.dat']) )[1:]"
   ]
  },
  {
   "cell_type": "code",
   "execution_count": 12,
   "metadata": {},
   "outputs": [],
   "source": [
    "peak_indices = peak_detect(transform_abs, 10**2)\n",
    "peak_heights = [transform_abs[i]  for i in peak_indices]"
   ]
  },
  {
   "cell_type": "code",
   "execution_count": 13,
   "metadata": {},
   "outputs": [
    {
     "data": {
      "text/plain": [
       "(0.0, 26855.463087130192)"
      ]
     },
     "execution_count": 13,
     "metadata": {},
     "output_type": "execute_result"
    },
    {
     "data": {
      "image/png": "[encoded data removed]",
      "text/plain": [
       "<Figure size 432x288 with 1 Axes>"
      ]
     },
     "metadata": {
      "needs_background": "light"
     },
     "output_type": "display_data"
    }
   ],
   "source": [
    "plt.plot(frequencies, transform_abs)\n",
    "plt.xlim(0)"
   ]
  },
  {
   "cell_type": "code",
   "execution_count": 15,
   "metadata": {},
   "outputs": [
    {
     "data": {
      "text/plain": [
       "(0.0, 26855.463087130192)"
      ]
     },
     "execution_count": 15,
     "metadata": {},
     "output_type": "execute_result"
    },
    {
     "data": {
      "image/png": "[encoded data removed]",
      "text/plain": [
       "<Figure size 432x288 with 1 Axes>"
      ]
     },
     "metadata": {
      "needs_background": "light"
     },
     "output_type": "display_data"
    }
   ],
   "source": [
    "plt.plot(frequencies[1:], transform_abs[1:],'-', frequencies[peak_indices], peak_heights,'x')\n",
    "plt.xlim(0)"
   ]
  },
  {
   "cell_type": "code",
   "execution_count": 16,
   "metadata": {},
   "outputs": [],
   "source": [
    "frequencies  = np.fft.fftfreq(nbins, dt)[1:]\n",
    "transform_abs = np.abs( np.fft.fft(data_dict['L83080_SAP0_BEAM0_DM39.66.dat']) / len(data_dict['L83080_SAP0_BEAM0_DM39.66.dat']) )[1:]\n",
    "peak_indices = peak_detect(transform_abs, 10**2)\n",
    "peak_heights = [transform_abs[i]  for i in peak_indices]"
   ]
  },
  {
   "cell_type": "code",
   "execution_count": 17,
   "metadata": {},
   "outputs": [
    {
     "data": {
      "text/plain": [
       "(0.0, 26855.463087130192)"
      ]
     },
     "execution_count": 17,
     "metadata": {},
     "output_type": "execute_result"
    },
    {
     "data": {
      "image/png": "[encoded data removed]",
      "text/plain": [
       "<Figure size 432x288 with 1 Axes>"
      ]
     },
     "metadata": {
      "needs_background": "light"
     },
     "output_type": "display_data"
    }
   ],
   "source": [
    "plt.plot(frequencies[1:], transform_abs[1:],'-', frequencies[peak_indices], peak_heights,'x')\n",
    "plt.xlim(0)"
   ]
  },
  {
   "cell_type": "code",
   "execution_count": null,
   "metadata": {},
   "outputs": [],
   "source": []
  }
 ],
 "metadata": {
  "interpreter": {
   "hash": "40d3a090f54c6569ab1632332b64b2c03c39dcf918b08424e98f38b5ae0af88f"
  },
  "kernelspec": {
   "display_name": "Python 3.8.3 64-bit ('base': conda)",
   "language": "python",
   "name": "python3"
  },
  "language_info": {
   "codemirror_mode": {
    "name": "ipython",
    "version": 3
   },
   "file_extension": ".py",
   "mimetype": "text/x-python",
   "name": "python",
   "nbconvert_exporter": "python",
   "pygments_lexer": "ipython3",
   "version": "3.8.3"
  },
  "orig_nbformat": 4
 },
 "nbformat": 4,
 "nbformat_minor": 2
}
