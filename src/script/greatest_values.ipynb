{
 "cells": [
  {
   "cell_type": "code",
   "execution_count": 38,
   "metadata": {},
   "outputs": [],
   "source": [
    "def n_max_intensities(intensities, n):\n",
    "    return list ( reversed ( sorted ( intensities ) ) ) [:n]"
   ]
  },
  {
   "cell_type": "code",
   "execution_count": 43,
   "metadata": {},
   "outputs": [],
   "source": [
    "def n_max_frequencies(frequencies, intensities, max_intensities):\n",
    "    \"\"\"\n",
    "    Note that frequencies must be a numpy array.\n",
    "    \"\"\"\n",
    "    return frequencies[ [ intensities.index(x) for x in max_intensities ] ]"
   ]
  },
  {
   "cell_type": "code",
   "execution_count": 55,
   "metadata": {},
   "outputs": [
    {
     "data": {
      "text/plain": [
       "array([23, 22, 21, 20, 19, 18, 17, 16, 15, 14, 13, 12, 11, 10,  9,  8,  7,\n",
       "        6,  5,  4,  3,  2,  1,  0])"
      ]
     },
     "execution_count": 55,
     "metadata": {},
     "output_type": "execute_result"
    }
   ],
   "source": [
    "import numpy as np\n",
    "a = [1,2,3,4,5,342124,1324,234,5345345435,124,123,4,1324,1324,132,41,24,1324,312,4,1324,312,413,4]\n",
    "freqs = np.array( list( reversed( range( len(a)) ) ) )\n",
    "freqs"
   ]
  },
  {
   "cell_type": "code",
   "execution_count": 56,
   "metadata": {},
   "outputs": [
    {
     "data": {
      "text/plain": [
       "array([15, 18])"
      ]
     },
     "execution_count": 56,
     "metadata": {},
     "output_type": "execute_result"
    }
   ],
   "source": [
    "n_max_frequencies(freqs, a, n_max_intensities(a, 2))"
   ]
  }
 ],
 "metadata": {
  "interpreter": {
   "hash": "9295da5068cda9cd4a14b172873b2c7fce6c9388510d927d8ee80a52eb5ed8bb"
  },
  "kernelspec": {
   "display_name": "Python 3.9.7 64-bit ('pulsar': conda)",
   "language": "python",
   "name": "python3"
  },
  "language_info": {
   "codemirror_mode": {
    "name": "ipython",
    "version": 3
   },
   "file_extension": ".py",
   "mimetype": "text/x-python",
   "name": "python",
   "nbconvert_exporter": "python",
   "pygments_lexer": "ipython3",
   "version": "3.9.7"
  },
  "orig_nbformat": 4
 },
 "nbformat": 4,
 "nbformat_minor": 2
}
