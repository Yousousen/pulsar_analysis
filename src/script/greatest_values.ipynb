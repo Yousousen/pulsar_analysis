{
 "cells": [
  {
   "cell_type": "code",
   "execution_count": 38,
   "metadata": {},
   "outputs": [],
   "source": [
    "def n_max_intensities(intensities, n):\n",
    "    return list ( reversed ( sorted (intensities) ) ) [:n]"
   ]
  },
  {
   "cell_type": "code",
   "execution_count": 39,
   "metadata": {},
   "outputs": [],
   "source": [
    "def n_max_frequencies(intensities, max_intensities):\n",
    "    return [intensities.index(x) for x in max_intensities ]"
   ]
  },
  {
   "cell_type": "code",
   "execution_count": 40,
   "metadata": {},
   "outputs": [],
   "source": [
    "a = [1,2,3,4,34212,34132,4,1324,234,124,123,4,1324,1324,132,41,24,1324,312,4,1324,312,413,4]\n",
    "freqs = range(1,24+1)"
   ]
  },
  {
   "cell_type": "code",
   "execution_count": 41,
   "metadata": {},
   "outputs": [],
   "source": [
    "i,j = n_max_frequencies(a, n_max_intensities(a, 2))"
   ]
  },
  {
   "cell_type": "code",
   "execution_count": 42,
   "metadata": {},
   "outputs": [
    {
     "name": "stdout",
     "output_type": "stream",
     "text": [
      "5 6\n"
     ]
    }
   ],
   "source": [
    "print( freqs[i], freqs[j])"
   ]
  }
 ],
 "metadata": {
  "interpreter": {
   "hash": "9295da5068cda9cd4a14b172873b2c7fce6c9388510d927d8ee80a52eb5ed8bb"
  },
  "kernelspec": {
   "display_name": "Python 3.9.7 64-bit ('pulsar': conda)",
   "language": "python",
   "name": "python3"
  },
  "language_info": {
   "codemirror_mode": {
    "name": "ipython",
    "version": 3
   },
   "file_extension": ".py",
   "mimetype": "text/x-python",
   "name": "python",
   "nbconvert_exporter": "python",
   "pygments_lexer": "ipython3",
   "version": "3.9.7"
  },
  "orig_nbformat": 4
 },
 "nbformat": 4,
 "nbformat_minor": 2
}
