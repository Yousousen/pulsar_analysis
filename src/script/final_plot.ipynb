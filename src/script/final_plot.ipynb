{
 "cells": [
  {
   "cell_type": "code",
   "execution_count": 1,
   "metadata": {},
   "outputs": [],
   "source": [
    "import os\n",
    "import glob\n",
    "from pathlib import Path\n",
    "import numpy as np\n",
    "import matplotlib.pyplot as plt\n",
    "from utility.utility import *\n",
    "from utility.algorithm import *"
   ]
  },
  {
   "cell_type": "code",
   "execution_count": 2,
   "metadata": {},
   "outputs": [],
   "source": [
    "def import_files(path, dtype):\n",
    "    '''\n",
    "    Import files in the syntax that I used in the notebook. That is, choose the path that contains\n",
    "    all the files, then obtain all dat and inf files as dictionaries that can be accessed by filename. \n",
    "    '''\n",
    "\n",
    "    filename = \"*.dat\"\n",
    "    files =  [ p for p in Path(path).glob(filename) ]\n",
    "    file_dict = dict()\n",
    "    for file in files:\n",
    "        with open(file, 'rb') as f:\n",
    "            # key of the dict is the filename, value the data.\n",
    "            file_dict[os.path.basename(file)] = np.fromfile(f, np.float32)\n",
    "\n",
    "    metadata_dict = dict()\n",
    "    filename = \"*.inf\"\n",
    "    files =  [ p for p in Path(path).glob(filename) ]\n",
    "    for file in files:\n",
    "        with open(file) as f:\n",
    "            metadata_dict[os.path.basename(file)] = f.readlines()\n",
    "\n",
    "    return file_dict, metadata_dict "
   ]
  },
  {
   "cell_type": "code",
   "execution_count": 3,
   "metadata": {},
   "outputs": [],
   "source": [
    "data_dict, metadata_dict = import_files(path=\"../../LOFAR_2e_jaars_RP_2022_voor_studenten/Data_Pulsar2\", dtype=\"float32\")\n",
    "nbins_dict = dict()\n",
    "dt_dict = dict()\n",
    "mjd_dict = dict()\n",
    "for key, val in metadata_dict.items():\n",
    "    nbins_dict[key] = int(get_metadata_item(metadata_dict[key], 'Number of bins in the time series'))\n",
    "    dt_dict[key] = float(get_metadata_item(metadata_dict[key], 'Width of each time series bin (sec)'))\n",
    "    mjd_dict[key] = float(get_metadata_item(metadata_dict[key], 'Epoch of observation (MJD)'))"
   ]
  },
  {
   "cell_type": "code",
   "execution_count": 4,
   "metadata": {},
   "outputs": [],
   "source": [
    "# use fitresults mathematica to make function \n",
    "x_range = [number for number in np.arange(0.20+ 5.63e4, 0.50 + 5.63e4, 0.001)]\n",
    "B = 0.00166275\n",
    "A = 7.66933e-8\n",
    "omega = 39.2704\n",
    "phi = 0.345537\n",
    "\n",
    "#create y values\n",
    "sine_fit = [B + A * np.sin(omega*number + phi) for number in x_range]\n",
    "\n",
    "# errors from fit\n",
    "B_err = 1.94857e-9\n",
    "A_err = 2.62111e-9\n",
    "omega_err = 1.05838\n",
    "phi_err = 59587."
   ]
  },
  {
   "cell_type": "code",
   "execution_count": 5,
   "metadata": {},
   "outputs": [
    {
     "name": "stdout",
     "output_type": "stream",
     "text": [
      "[56299.61949397883, 56299.364628335425, 56300.44103724313, 56300.37159145176, 56300.38548061164, 56300.42714808649, 56300.34381312978, 56300.48270470806, 56300.4688155539, 56300.32992396778, 56300.413258929024, 56300.39936977075, 56300.35770229113, 56300.45492639893]\n"
     ]
    }
   ],
   "source": [
    "%matplotlib qt\n",
    "# working data from mathematica that is from python\n",
    "x = [56300.4688155539, 56300.45492639893, 56300.44103724313, 56300.42714808649, 56300.413258929024, 56300.39936977075, 56300.38548061164, 56300.37159145176, 56300.35770229113, 56300.34381312978]\n",
    "y = [0.0016627957592090326, 0.00166282563896264, 0.0016628302415629193, 0.0016628131097909669, 0.0016627781654799023, 0.0016627323139534107, 0.0016626925155149316, 0.0016626750457100386, 0.0016626881480292916, 0.001662710837899844]\n",
    "yerr = [2.353097663263867e-9, 2.3435228659575588e-9, 2.2291472249414805e-9, 1.9880488969239098e-9, 3.1889485827440945e-9, 3.46808484243367e-9, 2.1726783415015955e-9, 5e-9, 2.2821954279209845e-9, 3.615634992325844e-9]\n",
    "\n",
    "list_MJD_All =  list( mjd_dict.values() )\n",
    "# lines datapoints \n",
    "ymin = 8.4e-7 + 1.662e-3\n",
    "ymax = 6.6e-7 + 1.662e-3\n",
    "plt.clf()\n",
    "plt.vlines(list_MJD_All, ymin, ymax, colors='yellow', linestyles='dotted')\n",
    "plt.plot(x,y, 'o')\n",
    "plt.plot(x_range, sine_fit, color='magenta')\n",
    "plt.errorbar(x, y, yerr, color='red', fmt='o')\n",
    "\n",
    "print(list_MJD_All)"
   ]
  },
  {
   "cell_type": "code",
   "execution_count": null,
   "metadata": {},
   "outputs": [
    {
     "name": "stdout",
     "output_type": "stream",
     "text": [
      "{'L83084_SAP0_BEAM0_DM39.66.dat': array([41134. , 45705. , 44095. , ..., 44421.5, 44421.5, 44421.5],\n",
      "      dtype=float32), 'L83079_SAP0_BEAM0_DM39.66.dat': array([43037. , 43082. , 41492. , ..., 44427.1, 44427.1, 44427.1],\n",
      "      dtype=float32), 'L83083_SAP0_BEAM0_DM39.66.dat': array([43138.  , 43507.  , 44060.  , ..., 44436.46, 44436.46, 44436.46],\n",
      "      dtype=float32), 'L83089_SAP0_BEAM0_DM39.66.dat': array([43402.   , 41204.   , 41362.   , ..., 44388.176, 44388.176,\n",
      "       44388.176], dtype=float32), 'L83080_SAP0_BEAM0_DM39.66.dat': array([42803.   , 43653.   , 43815.   , ..., 44424.527, 44424.527,\n",
      "       44424.527], dtype=float32), 'L83087_SAP0_BEAM0_DM39.66.dat': array([42469.   , 43798.   , 43904.   , ..., 44301.566, 44301.566,\n",
      "       44301.566], dtype=float32), 'L83086_SAP0_BEAM0_DM39.66.dat': array([43764.   , 45682.   , 44446.   , ..., 44383.402, 44383.402,\n",
      "       44383.402], dtype=float32), 'L83081_SAP0_BEAM0_DM39.66.dat': array([44707.  , 43506.  , 44092.  , ..., 44407.11, 44407.11, 44407.11],\n",
      "      dtype=float32), 'L83088_SAP0_BEAM0_DM39.66.dat': array([46496.  , 44193.  , 46008.  , ..., 44503.19, 44503.19, 44503.19],\n",
      "      dtype=float32), 'L83082_SAP0_BEAM0_DM39.66.dat': array([43936.   , 42584.   , 44130.   , ..., 44348.785, 44348.785,\n",
      "       44348.785], dtype=float32), 'L83078_SAP0_BEAM0_DM39.66.dat': array([44410.   , 45391.   , 41925.   , ..., 44443.992, 44443.992,\n",
      "       44443.992], dtype=float32), 'L83085_SAP0_BEAM0_DM39.66.dat': array([44057.  , 46818.  , 42214.  , ..., 44431.14, 44431.14, 44431.14],\n",
      "      dtype=float32), 'L83029_SAP0_BEAM0_DM39.66.dat': array([42677.   , 45556.   , 41182.   , ..., 44353.242, 44353.242,\n",
      "       44353.242], dtype=float32), 'L83061_SAP0_BEAM0_DM39.66.dat': array([41837.  , 43498.  , 46163.  , ..., 45101.94, 45101.94, 45101.94],\n",
      "      dtype=float32)}\n"
     ]
    }
   ],
   "source": [
    "%matplotlib qt\n",
    "plt.clf()\n",
    "plt.plot(x,y, 'o', color='red')\n",
    "plt.plot(x_range, sine_fit)"
   ]
  },
  {
   "cell_type": "code",
   "execution_count": 12,
   "metadata": {},
   "outputs": [],
   "source": [
    "from utility.utility import find_period_in_index, stacking\n",
    "\n",
    "#period guess by using the intersection of the vertical line where the datapoint should've been and the sine fit\n",
    "\n",
    "period_dataset3 = 16.828 # found with desmos\n",
    "dt = 2.04799998755334e-05\n",
    "nbins = 8800000\n",
    "pulsar_data= data_dict['L83078_SAP0_BEAM0_DM39.66.dat']\n",
    "\n",
    "\n",
    "period_in_index = find_period_in_index(period=period_dataset3, dt=dt)\n",
    "stack = stacking(pulsar_data=pulsar_data, period_in_index=period_in_index, nbins=nbins)"
   ]
  },
  {
   "cell_type": "code",
   "execution_count": 13,
   "metadata": {},
   "outputs": [
    {
     "data": {
      "text/plain": [
       "Text(0, 0.5, 'Relative amplitude')"
      ]
     },
     "execution_count": 13,
     "metadata": {},
     "output_type": "execute_result"
    }
   ],
   "source": [
    "time = [ dt * t for t in range(len(stack))]\n",
    "\n",
    "plt.plot(time, stack / max( stack ) )#, color='magenta')\n",
    "plt.xlabel('Time (s)')\n",
    "plt.ylabel('Relative amplitude')"
   ]
  },
  {
   "cell_type": "code",
   "execution_count": null,
   "metadata": {},
   "outputs": [],
   "source": []
  }
 ],
 "metadata": {
  "interpreter": {
   "hash": "40d3a090f54c6569ab1632332b64b2c03c39dcf918b08424e98f38b5ae0af88f"
  },
  "kernelspec": {
   "display_name": "Python 3.8.3 64-bit ('base': conda)",
   "language": "python",
   "name": "python3"
  },
  "language_info": {
   "codemirror_mode": {
    "name": "ipython",
    "version": 3
   },
   "file_extension": ".py",
   "mimetype": "text/x-python",
   "name": "python",
   "nbconvert_exporter": "python",
   "pygments_lexer": "ipython3",
   "version": "3.8.3"
  },
  "orig_nbformat": 4
 },
 "nbformat": 4,
 "nbformat_minor": 2
}
