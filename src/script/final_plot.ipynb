{
 "cells": [
  {
   "cell_type": "code",
   "execution_count": 1,
   "metadata": {},
   "outputs": [],
   "source": [
    "import os\n",
    "import glob\n",
    "from pathlib import Path\n",
    "import numpy as np\n",
    "import matplotlib.pyplot as plt\n",
    "from utility.utility import *\n",
    "from utility.algorithm import *\n",
    "from utility.utility import find_period_in_index, stacking\n",
    "from tqdm import tqdm"
   ]
  },
  {
   "cell_type": "code",
   "execution_count": 2,
   "metadata": {},
   "outputs": [],
   "source": [
    "# to get data from pulsar 2\n",
    "def import_files(path, dtype):\n",
    "    '''\n",
    "    Import files in the syntax that I used in the notebook. That is, choose the path that contains\n",
    "    all the files, then obtain all dat and inf files as dictionaries that can be accessed by filename. \n",
    "    '''\n",
    "\n",
    "    filename = \"*.dat\"\n",
    "    files =  [ p for p in Path(path).glob(filename) ]\n",
    "    file_dict = dict()\n",
    "    for file in files:\n",
    "        with open(file, 'rb') as f:\n",
    "            # key of the dict is the filename, value the data.\n",
    "            file_dict[os.path.basename(file)] = np.fromfile(f, np.float32)\n",
    "\n",
    "    metadata_dict = dict()\n",
    "    filename = \"*.inf\"\n",
    "    files =  [ p for p in Path(path).glob(filename) ]\n",
    "    for file in files:\n",
    "        with open(file) as f:\n",
    "            metadata_dict[os.path.basename(file)] = f.readlines()\n",
    "\n",
    "    return file_dict, metadata_dict \n",
    "\n",
    "\n",
    "data_dict, metadata_dict = import_files(path=\"../../LOFAR_2e_jaars_RP_2022_voor_studenten/Data_Pulsar2\", dtype=\"float32\")\n",
    "nbins_dict = dict()\n",
    "dt_dict = dict()\n",
    "mjd_dict = dict()\n",
    "for key, val in metadata_dict.items():\n",
    "    nbins_dict[key] = int(get_metadata_item(metadata_dict[key], 'Number of bins in the time series'))\n",
    "    dt_dict[key] = float(get_metadata_item(metadata_dict[key], 'Width of each time series bin (sec)'))\n",
    "    mjd_dict[key] = float(get_metadata_item(metadata_dict[key], 'Epoch of observation (MJD)'))"
   ]
  },
  {
   "cell_type": "code",
   "execution_count": 3,
   "metadata": {},
   "outputs": [],
   "source": [
    "# to get data from pular 1\n",
    "dtype = np.dtype('float32')\n",
    "path = \"../../LOFAR_2e_jaars_RP_2022_voor_studenten/Data_Pulsar1/L197621_SAP0_BEAM1_DM12.44_mask.dat\"\n",
    "with open( path, 'rb') as f:\n",
    "    pulsar1_data = np.fromfile(f, dtype)"
   ]
  },
  {
   "cell_type": "code",
   "execution_count": 4,
   "metadata": {},
   "outputs": [],
   "source": [
    "# use fitresults mathematica to make function \n",
    "def sine_fit(x):\n",
    "    B = 0.00166275\n",
    "    A = 7.66933e-8\n",
    "    omega = 39.2704\n",
    "    phi = 0.345537\n",
    "    y = B + A*np.sin(omega*x + phi)\n",
    "    return y\n",
    "\n",
    "#create x and y values\n",
    "x_range = [number for number in np.arange(0.20+ 5.63e4, 0.50 + 5.63e4, 0.001)]\n",
    "fit = [sine_fit(number) for number in x_range]\n",
    "\n",
    "\n",
    "# errors from fit\n",
    "B_err = 1.94857e-9\n",
    "A_err = 2.62111e-9\n",
    "omega_err = 1.05838\n",
    "phi_err = 59587."
   ]
  },
  {
   "cell_type": "code",
   "execution_count": 5,
   "metadata": {},
   "outputs": [
    {
     "name": "stdout",
     "output_type": "stream",
     "text": [
      "[56299.364628335425, 56299.61949397883, 56300.32992396778, 56300.34381312978, 56300.35770229113, 56300.37159145176, 56300.38548061164, 56300.39936977075, 56300.413258929024, 56300.42714808649, 56300.44103724313, 56300.45492639893, 56300.4688155539, 56300.48270470806]\n"
     ]
    }
   ],
   "source": [
    "%matplotlib qt\n",
    "# working data from mathematica that is from python\n",
    "x_list = [56300.4688155539, 56300.45492639893, 56300.44103724313, 56300.42714808649, 56300.413258929024, 56300.39936977075, 56300.38548061164, 56300.37159145176, 56300.35770229113, 56300.34381312978]\n",
    "y_list = [0.0016627957592090326, 0.00166282563896264, 0.0016628302415629193, 0.0016628131097909669, 0.0016627781654799023, 0.0016627323139534107, 0.0016626925155149316, 0.0016626750457100386, 0.0016626881480292916, 0.001662710837899844]\n",
    "yerr_list = [2.353097663263867e-9, 2.3435228659575588e-9, 2.2291472249414805e-9, 1.9880488969239098e-9, 3.1889485827440945e-9, 3.46808484243367e-9, 2.1726783415015955e-9, 5e-9, 2.2821954279209845e-9, 3.615634992325844e-9]\n",
    "\n",
    "list_MJD_All =  list( mjd_dict.values() )\n",
    "# lines datapoints \n",
    "ymin = 8.4e-7 + 1.662e-3\n",
    "ymax = 6.6e-7 + 1.662e-3\n",
    "plt.clf()\n",
    "plt.vlines(list_MJD_All, ymin, ymax, colors='black', linestyles='dotted')\n",
    "plt.plot(x_list,y_list, 'o')\n",
    "plt.plot(x_range, fit, color='magenta')\n",
    "plt.errorbar(x_list, y_list, yerr_list, color='red', fmt='o')\n",
    "\n",
    "print(sorted(list_MJD_All))"
   ]
  },
  {
   "cell_type": "code",
   "execution_count": 13,
   "metadata": {},
   "outputs": [
    {
     "name": "stderr",
     "output_type": "stream",
     "text": [
      "100%|██████████| 510/510 [00:00<00:00, 1087491.12it/s]\n",
      "100%|██████████| 81/81 [00:00<00:00, 291371.03it/s]\n"
     ]
    }
   ],
   "source": [
    "# information pulsar 1 dataset\n",
    "metadata_path = '../../LOFAR_2e_jaars_RP_2022_voor_studenten/Data_Pulsar1/L197621_SAP0_BEAM1_DM12.44_Mask.inf'\n",
    "with open(metadata_path) as f:\n",
    "    metadata = f.readlines()\n",
    "\n",
    "period_pulsar1 = 1.3377139183200188\n",
    "nbins_pulsar1= int(get_metadata_item(metadata, 'Number of bins in the time series'))\n",
    "dt_pulsar1 = float(get_metadata_item(metadata, 'Width of each time series bin (sec)'))\n",
    "\n",
    "#stacking\n",
    "period_in_index_pulsar1 = find_period_in_index(period=period_pulsar1, dt=dt_pulsar1)\n",
    "stack_pulsar1 = stacking(pulsar_data=pulsar1_data, period_in_index=period_in_index_pulsar1, nbins=nbins_pulsar1)\n",
    "\n",
    "# time for plot\n",
    "time_pulsar1 = []\n",
    "for t in tqdm(range(len(stack_pulsar1))):\n",
    "    time = dt_pulsar1*t\n",
    "    time_pulsar1.append(time)\n",
    "\n",
    "\n",
    "# information pulsar 2 datasets\n",
    "data_pulsar2_set3 = data_dict['L83080_SAP0_BEAM0_DM39.66.dat']\n",
    "x_value = mjd_dict['L83080_SAP0_BEAM0_DM39.66.inf']\n",
    "\n",
    "period_pulsar2_set3 = sine_fit(x_value) # found with desmos\n",
    "dt_pulsar2 = 2.04799998755334e-05\n",
    "nbins_pulsar2 = 8800000\n",
    "\n",
    "#stacking\n",
    "period_in_index_pulsar2 = find_period_in_index(period=period_pulsar2_set3, dt=dt_pulsar2)\n",
    "stack_pulsar2 = stacking(pulsar_data=data_pulsar2_set3, period_in_index=period_in_index_pulsar2, nbins=nbins_pulsar2)\n",
    "\n",
    "#time for plot\n",
    "time_pulsar2 = []\n",
    "for t in tqdm(range(len(stack_pulsar2))):\n",
    "    time = dt_pulsar2*t\n",
    "    time_pulsar2.append(time)\n"
   ]
  },
  {
   "cell_type": "code",
   "execution_count": 14,
   "metadata": {},
   "outputs": [
    {
     "data": {
      "text/plain": [
       "Text(0, 0.5, 'Relative amplitude')"
      ]
     },
     "execution_count": 14,
     "metadata": {},
     "output_type": "execute_result"
    }
   ],
   "source": [
    "plt.plot(time_pulsar1, stack_pulsar1 / max( stack_pulsar1 ) )#, color='magenta')\n",
    "plt.xlabel('Time (s)')\n",
    "plt.ylabel('Relative amplitude')"
   ]
  },
  {
   "cell_type": "code",
   "execution_count": 15,
   "metadata": {},
   "outputs": [
    {
     "data": {
      "text/plain": [
       "Text(0, 0.5, 'Relative amplitude')"
      ]
     },
     "execution_count": 15,
     "metadata": {},
     "output_type": "execute_result"
    }
   ],
   "source": [
    "plt.plot(time_pulsar2, stack_pulsar2 / max( stack_pulsar2 ) )#, color='magenta')\n",
    "plt.xlabel('Time (s)')\n",
    "plt.ylabel('Relative amplitude')"
   ]
  },
  {
   "cell_type": "code",
   "execution_count": null,
   "metadata": {},
   "outputs": [],
   "source": []
  }
 ],
 "metadata": {
  "interpreter": {
   "hash": "40d3a090f54c6569ab1632332b64b2c03c39dcf918b08424e98f38b5ae0af88f"
  },
  "kernelspec": {
   "display_name": "Python 3.8.3 64-bit ('base': conda)",
   "language": "python",
   "name": "python3"
  },
  "language_info": {
   "codemirror_mode": {
    "name": "ipython",
    "version": 3
   },
   "file_extension": ".py",
   "mimetype": "text/x-python",
   "name": "python",
   "nbconvert_exporter": "python",
   "pygments_lexer": "ipython3",
   "version": "3.8.3"
  },
  "orig_nbformat": 4
 },
 "nbformat": 4,
 "nbformat_minor": 2
}
