{
 "cells": [
  {
   "cell_type": "code",
   "execution_count": 1,
   "metadata": {},
   "outputs": [],
   "source": [
    "import numpy as np\n",
    "import matplotlib.pyplot as plt"
   ]
  },
  {
   "cell_type": "code",
   "execution_count": 2,
   "metadata": {},
   "outputs": [
    {
     "data": {
      "text/plain": [
       "array([1354649.2, 1379855.1, 1374663.1, ..., 1479622.2, 1479622.2,\n",
       "       1479622.2], dtype=float32)"
      ]
     },
     "execution_count": 2,
     "metadata": {},
     "output_type": "execute_result"
    }
   ],
   "source": [
    "dtype = np.dtype('float32')\n",
    "path = \"../LOFAR_2e_jaars_RP_2022_voor_studenten/Data_Pulsar1/L197621_SAP0_BEAM1_DM12.44_mask.dat\"\n",
    "with open( path, 'rb') as f:\n",
    "    pulsar_data = np.fromfile(f, dtype)\n",
    "pulsar_data"
   ]
  },
  {
   "cell_type": "code",
   "execution_count": 3,
   "metadata": {},
   "outputs": [],
   "source": [
    "dt = 0.00262143998406827\n",
    "nbins = 69120 \n",
    "total_time = nbins * dt\n",
    "time = [t*dt for t in np.arange(0, nbins)]"
   ]
  },
  {
   "cell_type": "code",
   "execution_count": 4,
   "metadata": {},
   "outputs": [
    {
     "data": {
      "text/plain": [
       "[<matplotlib.lines.Line2D at 0x24dc5e1aa30>]"
      ]
     },
     "execution_count": 4,
     "metadata": {},
     "output_type": "execute_result"
    },
    {
     "data": {
      "image/png": "[encoded data removed]",
      "text/plain": [
       "<Figure size 432x288 with 1 Axes>"
      ]
     },
     "metadata": {
      "needs_background": "light"
     },
     "output_type": "display_data"
    }
   ],
   "source": [
    "plt.plot(time, pulsar_data)"
   ]
  },
  {
   "cell_type": "code",
   "execution_count": 5,
   "metadata": {},
   "outputs": [],
   "source": [
    "%matplotlib inline"
   ]
  },
  {
   "cell_type": "code",
   "execution_count": 6,
   "metadata": {},
   "outputs": [],
   "source": [
    "# Some utility functions.\n",
    "\n",
    "def short_list(lst):\n",
    "    \"\"\"\n",
    "    Returns a string that is a short representation of list lst; useful for long lists.\n",
    "    \"\"\"\n",
    "    if len(lst) >= 4:\n",
    "        return f\"{lst[0]},\\t{lst[1]},\\t...\\t,{lst[-1]},\\t{lst[-2]}\"\n",
    "    return lst"
   ]
  },
  {
   "cell_type": "code",
   "execution_count": 7,
   "metadata": {},
   "outputs": [],
   "source": [
    "def elements_containing_string(search_query, lst):\n",
    "    \"\"\"\n",
    "    This function exists to prevent repeatingly writing the (unreadable) list\n",
    "    comprehension it returns to find the elements of the list that contain the\n",
    "    search_query.\n",
    "    \"\"\"\n",
    "    return [x for x in lst if x.lower().find(search_query.strip().lower()) != -1]"
   ]
  },
  {
   "cell_type": "code",
   "execution_count": 8,
   "metadata": {},
   "outputs": [],
   "source": [
    "def contains_substring(str, sub_str):\n",
    "    \"\"\"\n",
    "    More readable syntax for checking if a string contains a substring.\n",
    "    \"\"\"\n",
    "    return str.lower().find(sub_str.strip().lower()) != -1"
   ]
  },
  {
   "cell_type": "code",
   "execution_count": 9,
   "metadata": {},
   "outputs": [],
   "source": [
    "def slice_string_at_char(str, char):\n",
    "    \"\"\"\n",
    "    Returns a list of strings splitted on char.\n",
    "    \"\"\"\n",
    "    return str.split(char)"
   ]
  },
  {
   "cell_type": "code",
   "execution_count": 10,
   "metadata": {},
   "outputs": [],
   "source": [
    "def get_metadata_item(item):\n",
    "    return slice_string_at_char(elements_containing_string(item, metadata)[0], '=')[1]"
   ]
  },
  {
   "cell_type": "code",
   "execution_count": 11,
   "metadata": {},
   "outputs": [
    {
     "data": {
      "text/plain": [
       "' Data file name without suffix          =  L197621_SAP0_BEAM1_DM12.44_Mask\\n,\\t Telescope used                         =  LOFAR\\n,\\t...\\t,\\n,\\t\\n'"
      ]
     },
     "execution_count": 11,
     "metadata": {},
     "output_type": "execute_result"
    }
   ],
   "source": [
    "metadata_path = '../LOFAR_2e_jaars_RP_2022_voor_studenten/Data_Pulsar1/L197621_SAP0_BEAM1_DM12.44_Mask.inf'\n",
    "with open(metadata_path) as f:\n",
    "    metadata = f.readlines()\n",
    "\n",
    "short_list(metadata)"
   ]
  },
  {
   "cell_type": "code",
   "execution_count": 12,
   "metadata": {},
   "outputs": [
    {
     "name": "stdout",
     "output_type": "stream",
     "text": [
      "69120\n",
      "0.00262143998406827\n"
     ]
    }
   ],
   "source": [
    "nbins = int(get_metadata_item('Number of bins in the time series'))\n",
    "dt = float(get_metadata_item('Width of each time series bin (sec)'))\n",
    "print(nbins)\n",
    "print(dt)"
   ]
  },
  {
   "cell_type": "code",
   "execution_count": 13,
   "metadata": {},
   "outputs": [
    {
     "data": {
      "text/plain": [
       "(0.0, 209.80255598842447)"
      ]
     },
     "execution_count": 13,
     "metadata": {},
     "output_type": "execute_result"
    },
    {
     "data": {
      "image/png": "[encoded data removed]",
      "text/plain": [
       "<Figure size 432x288 with 1 Axes>"
      ]
     },
     "metadata": {
      "needs_background": "light"
     },
     "output_type": "display_data"
    }
   ],
   "source": [
    "frequencies  = np.fft.fftfreq(nbins, dt)\n",
    "transform = np.fft.fft(pulsar_data)\n",
    "plt.plot(frequencies[1:], abs(transform[1:]))\n",
    "plt.xlim(0) # to remove the symmetry from the plot."
   ]
  },
  {
   "cell_type": "markdown",
   "metadata": {},
   "source": [
    "forget about the following calculation; we do it with fftfreq."
   ]
  },
  {
   "cell_type": "code",
   "execution_count": 14,
   "metadata": {},
   "outputs": [
    {
     "name": "stdout",
     "output_type": "stream",
     "text": [
      "True\n"
     ]
    },
    {
     "data": {
      "text/plain": [
       "181.19393169879882"
      ]
     },
     "execution_count": 14,
     "metadata": {},
     "output_type": "execute_result"
    }
   ],
   "source": [
    "print( nbins == len(pulsar_data) )\n",
    "nbins = len(pulsar_data)\n",
    "total_time = dt * nbins\n",
    "total_time"
   ]
  },
  {
   "cell_type": "code",
   "execution_count": 15,
   "metadata": {},
   "outputs": [
    {
     "data": {
      "text/plain": [
       "0.005518948623855206"
      ]
     },
     "execution_count": 15,
     "metadata": {},
     "output_type": "execute_result"
    }
   ],
   "source": [
    "dnu = 1 / total_time\n",
    "dnu"
   ]
  },
  {
   "cell_type": "code",
   "execution_count": 16,
   "metadata": {},
   "outputs": [],
   "source": [
    "from scipy.signal import find_peaks\n",
    "height_threshold = 0.15* 10 **9 # Just reading off an apprpriate value from the graph\n",
    "peaks_index, properties = find_peaks(np.abs(transform), height=height_threshold)"
   ]
  },
  {
   "cell_type": "code",
   "execution_count": 17,
   "metadata": {},
   "outputs": [
    {
     "name": "stdout",
     "output_type": "stream",
     "text": [
      "0.02759474311927603,\t0.04967053761469686,\t...\t,-0.02759474311927603,\t-0.04967053761469686\n",
      "68\n"
     ]
    }
   ],
   "source": [
    "peaks_index\n",
    "peak_frequencies = [frequencies[i] for i in peaks_index]\n",
    "print(short_list(peak_frequencies))\n",
    "print(len(peak_frequencies))"
   ]
  },
  {
   "cell_type": "code",
   "execution_count": 18,
   "metadata": {},
   "outputs": [
    {
     "data": {
      "text/plain": [
       "(0.0, 209.80255598842447)"
      ]
     },
     "execution_count": 18,
     "metadata": {},
     "output_type": "execute_result"
    },
    {
     "data": {
      "image/png": "[encoded data removed]",
      "text/plain": [
       "<Figure size 432x288 with 1 Axes>"
      ]
     },
     "metadata": {
      "needs_background": "light"
     },
     "output_type": "display_data"
    }
   ],
   "source": [
    "%matplotlib inline\n",
    "# Just change the height threshold above if we want less peaks to be marked.\n",
    "plt.plot(frequencies[1:], np.abs(transform[1:]),'-', frequencies[peaks_index],properties['peak_heights'],'x')\n",
    "plt.xlim(0)"
   ]
  },
  {
   "cell_type": "code",
   "execution_count": 23,
   "metadata": {},
   "outputs": [],
   "source": [
    "period = 0.7450580642204528 ** -1 *1 # TODO: Automize this and make this more accurate."
   ]
  },
  {
   "cell_type": "markdown",
   "metadata": {},
   "source": [
    "## stacking"
   ]
  },
  {
   "cell_type": "code",
   "execution_count": 24,
   "metadata": {},
   "outputs": [
    {
     "data": {
      "text/plain": [
       "136"
      ]
     },
     "execution_count": 24,
     "metadata": {},
     "output_type": "execute_result"
    }
   ],
   "source": [
    "\n",
    "period_in_index = int(period // dt) # TODO: Why is this cast to int still needed?\n",
    "\n",
    "stack_dict = dict()\n",
    "i = 0\n",
    "while i <= nbins:\n",
    "    stack_dict[f\"stack{i // period_in_index}\"] = np.array( pulsar_data[i:i+period_in_index])\n",
    "    i += period_in_index\n",
    "len(stack_dict)"
   ]
  },
  {
   "cell_type": "code",
   "execution_count": 25,
   "metadata": {},
   "outputs": [
    {
     "name": "stdout",
     "output_type": "stream",
     "text": [
      "Length of the dictionary element stack135 is not 512. Did you expect this?\n"
     ]
    },
    {
     "data": {
      "text/plain": [
       "True"
      ]
     },
     "execution_count": 25,
     "metadata": {},
     "output_type": "execute_result"
    }
   ],
   "source": [
    "stack = np.zeros(period_in_index) # initializing with zeroes to get the correct stack size.\n",
    "for key, val in stack_dict.items():\n",
    "    if ( length := len(val) ) != period_in_index: # This happens at the end.\n",
    "        print(f'Length of the dictionary element {key} is not {period_in_index}. Did you expect this?')\n",
    "        stack += np.append(val, np.zeros(period_in_index - length )) # fill with zeroes to keep the same size.\n",
    "    else:\n",
    "        stack += val\n",
    "len(stack) == period_in_index"
   ]
  },
  {
   "cell_type": "code",
   "execution_count": 95,
   "metadata": {},
   "outputs": [
    {
     "data": {
      "text/plain": [
       "Text(0.5, 1.0, 'graph of an addition of signals of the first radio pulsar ever found.')"
      ]
     },
     "execution_count": 95,
     "metadata": {},
     "output_type": "execute_result"
    },
    {
     "data": {
      "image/png": "[encoded data removed]",
      "text/plain": [
       "<Figure size 432x288 with 1 Axes>"
      ]
     },
     "metadata": {
      "needs_background": "light"
     },
     "output_type": "display_data"
    }
   ],
   "source": [
    "plt.plot([ dt * t for t in range(len(stack))], stack, color='magenta')\n",
    "plt.xlabel('time (s)')\n",
    "plt.ylabel('intensity')\n",
    "plt.title('graph of an addition of signals of the first radio pulsar ever found.')"
   ]
  },
  {
   "cell_type": "code",
   "execution_count": 136,
   "metadata": {},
   "outputs": [],
   "source": [
    "%matplotlib qt\n",
    "for i, val in enumerate ( stack_dict.values() ) :\n",
    "    offset = i * 0.16 * 10 **6\n",
    "    plt.plot(stack_dict[f'stack{i}'] + offset, color='black') "
   ]
  },
  {
   "cell_type": "code",
   "execution_count": null,
   "metadata": {},
   "outputs": [],
   "source": []
  }
 ],
 "metadata": {
  "interpreter": {
   "hash": "40d3a090f54c6569ab1632332b64b2c03c39dcf918b08424e98f38b5ae0af88f"
  },
  "kernelspec": {
   "display_name": "Python 3.8.3 64-bit ('base': conda)",
   "language": "python",
   "name": "python3"
  },
  "language_info": {
   "codemirror_mode": {
    "name": "ipython",
    "version": 3
   },
   "file_extension": ".py",
   "mimetype": "text/x-python",
   "name": "python",
   "nbconvert_exporter": "python",
   "pygments_lexer": "ipython3",
   "version": "3.9.7"
  },
  "orig_nbformat": 4
 },
 "nbformat": 4,
 "nbformat_minor": 2
}
