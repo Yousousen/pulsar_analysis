{
 "cells": [
  {
   "cell_type": "code",
   "execution_count": 1,
   "metadata": {},
   "outputs": [],
   "source": [
    "import numpy as np\n",
    "import matplotlib.pyplot as plt"
   ]
  },
  {
   "cell_type": "code",
   "execution_count": 2,
   "metadata": {},
   "outputs": [
    {
     "data": {
      "text/plain": [
       "array([1354649.2, 1379855.1, 1374663.1, ..., 1479622.2, 1479622.2,\n",
       "       1479622.2], dtype=float32)"
      ]
     },
     "execution_count": 2,
     "metadata": {},
     "output_type": "execute_result"
    }
   ],
   "source": [
    "dtype = np.dtype('float32')\n",
    "path = \"../LOFAR_2e_jaars_RP_2022_voor_studenten/Data_Pulsar1/L197621_SAP0_BEAM1_DM12.44_mask.dat\"\n",
    "with open( path, 'rb') as f:\n",
    "    pulsar_data = np.fromfile(f, dtype)\n",
    "pulsar_data"
   ]
  },
  {
   "cell_type": "code",
   "execution_count": 3,
   "metadata": {},
   "outputs": [],
   "source": [
    "dt = 0.00262143998406827\n",
    "nbins = 69120 \n",
    "total_time = nbins * dt\n",
    "time = [t*dt for t in np.arange(0, nbins)]"
   ]
  },
  {
   "cell_type": "code",
   "execution_count": 4,
   "metadata": {},
   "outputs": [
    {
     "data": {
      "text/plain": [
       "[<matplotlib.lines.Line2D at 0x160ac16aa30>]"
      ]
     },
     "execution_count": 4,
     "metadata": {},
     "output_type": "execute_result"
    },
    {
     "data": {
      "image/png": "[encoded data removed]",
      "text/plain": [
       "<Figure size 432x288 with 1 Axes>"
      ]
     },
     "metadata": {
      "needs_background": "light"
     },
     "output_type": "display_data"
    }
   ],
   "source": [
    "plt.plot(time, pulsar_data)"
   ]
  },
  {
   "cell_type": "code",
   "execution_count": 5,
   "metadata": {},
   "outputs": [],
   "source": [
    "%matplotlib inline"
   ]
  },
  {
   "cell_type": "code",
   "execution_count": 6,
   "metadata": {},
   "outputs": [
    {
     "data": {
      "text/plain": [
       "(0.0, 209.80255598842447)"
      ]
     },
     "execution_count": 6,
     "metadata": {},
     "output_type": "execute_result"
    },
    {
     "data": {
      "image/png": "[encoded data removed]",
      "text/plain": [
       "<Figure size 432x288 with 1 Axes>"
      ]
     },
     "metadata": {
      "needs_background": "light"
     },
     "output_type": "display_data"
    }
   ],
   "source": [
    "frequencies  = np.fft.fftfreq(69120, 0.00262143998406827)\n",
    "transform = np.fft.fft(pulsar_data)\n",
    "plt.plot(frequencies[1:], abs(transform[1:]))\n",
    "plt.xlim(0)"
   ]
  },
  {
   "cell_type": "markdown",
   "metadata": {},
   "source": [
    "following calculation does what we can do with fftfreq."
   ]
  },
  {
   "cell_type": "code",
   "execution_count": 7,
   "metadata": {},
   "outputs": [
    {
     "data": {
      "text/plain": [
       "181.19393169879882"
      ]
     },
     "execution_count": 7,
     "metadata": {},
     "output_type": "execute_result"
    }
   ],
   "source": [
    "dtime = 0.00262143998406827\n",
    "nbins = len(pulsar_data)\n",
    "total_time = dtime * nbins\n",
    "total_time"
   ]
  },
  {
   "cell_type": "code",
   "execution_count": 8,
   "metadata": {},
   "outputs": [
    {
     "data": {
      "text/plain": [
       "0.005518948623855206"
      ]
     },
     "execution_count": 8,
     "metadata": {},
     "output_type": "execute_result"
    }
   ],
   "source": [
    "dnu = 1 / total_time\n",
    "dnu"
   ]
  },
  {
   "cell_type": "code",
   "execution_count": 9,
   "metadata": {},
   "outputs": [],
   "source": [
    "from scipy.signal import find_peaks\n",
    "peaks_index, properties = find_peaks(np.abs(transform), height=0.4* 10 **9)"
   ]
  },
  {
   "cell_type": "code",
   "execution_count": 10,
   "metadata": {},
   "outputs": [
    {
     "name": "stdout",
     "output_type": "stream",
     "text": [
      "[0.02759474311927603, 0.7450580642204528, 1.4956350770647608, 2.2406931412852136, 2.9912701541295217, 3.736328218349975, 4.4869052311942825, 5.231963295414736, 5.982540308259043, 6.7275983724794965, 7.478175385323804, 8.223233449544257, 8.973810462388565, 9.718868526609018, 10.469445539453327, 11.21450360367378, 11.965080616518087, 13.460715693582848, -13.460715693582848, -11.965080616518087, -11.21450360367378, -10.469445539453327, -9.718868526609018, -8.973810462388565, -8.223233449544257, -7.478175385323804, -6.7275983724794965, -5.982540308259043, -5.231963295414736, -4.4869052311942825, -3.736328218349975, -2.9912701541295217, -2.2406931412852136, -1.4956350770647608, -0.7450580642204528, -0.02759474311927603]\n",
      "36\n"
     ]
    }
   ],
   "source": [
    "peaks_index\n",
    "peak_frequencies = [frequencies[i] for i in peaks_index]\n",
    "print(peak_frequencies)\n",
    "print(len(peak_frequencies))"
   ]
  },
  {
   "cell_type": "code",
   "execution_count": 11,
   "metadata": {},
   "outputs": [],
   "source": [
    "period = 0.7450580642204528 ** -1 *2 "
   ]
  },
  {
   "cell_type": "markdown",
   "metadata": {},
   "source": [
    "## stacking"
   ]
  },
  {
   "cell_type": "code",
   "execution_count": 12,
   "metadata": {},
   "outputs": [
    {
     "data": {
      "text/plain": [
       "68"
      ]
     },
     "execution_count": 12,
     "metadata": {},
     "output_type": "execute_result"
    }
   ],
   "source": [
    "\n",
    "period_in_index = int(period // dtime)\n",
    "\n",
    "stack_dict = dict()\n",
    "i = 0\n",
    "while i < int(nbins):\n",
    "    stack_dict[f\"stack{i // period_in_index}\"] = np.array( pulsar_data[i:i+period_in_index])\n",
    "    i += period_in_index\n",
    "len(stack_dict)"
   ]
  },
  {
   "cell_type": "code",
   "execution_count": 13,
   "metadata": {},
   "outputs": [
    {
     "name": "stdout",
     "output_type": "stream",
     "text": [
      "Length of the dictionary element stack67 is not 1024, Did you expect this?\n"
     ]
    },
    {
     "data": {
      "text/plain": [
       "True"
      ]
     },
     "execution_count": 13,
     "metadata": {},
     "output_type": "execute_result"
    }
   ],
   "source": [
    "stack = np.zeros(period_in_index)\n",
    "for key, val in stack_dict.items():\n",
    "    if ( length := len(val) ) != period_in_index: # this happens at the end.\n",
    "        print(f'Length of the dictionary element {key} is not {period_in_index}, Did you expect this?')\n",
    "        stack += np.append(val, np.zeros(period_in_index - length )) # fill with zeroes to keep the same size.\n",
    "    else:\n",
    "        stack += val\n",
    "len(stack) == period_in_index"
   ]
  },
  {
   "cell_type": "code",
   "execution_count": 14,
   "metadata": {},
   "outputs": [],
   "source": [
    "time2 = [dt*t for t in range(len(stack))]"
   ]
  },
  {
   "cell_type": "code",
   "execution_count": 15,
   "metadata": {},
   "outputs": [
    {
     "data": {
      "text/plain": [
       "Text(0.5, 1.0, 'graph of an addition of signals of the first radio pulsar ever found.')"
      ]
     },
     "execution_count": 15,
     "metadata": {},
     "output_type": "execute_result"
    },
    {
     "data": {
      "image/png": "[encoded data removed]",
      "text/plain": [
       "<Figure size 432x288 with 1 Axes>"
      ]
     },
     "metadata": {
      "needs_background": "light"
     },
     "output_type": "display_data"
    }
   ],
   "source": [
    "plt.plot(time2,stack, color='magenta')\n",
    "plt.xlabel('time (s)')\n",
    "plt.ylabel('intensity')\n",
    "plt.title('graph of an addition of signals of the first radio pulsar ever found.')\n",
    "\n"
   ]
  },
  {
   "cell_type": "code",
   "execution_count": null,
   "metadata": {},
   "outputs": [],
   "source": []
  }
 ],
 "metadata": {
  "interpreter": {
   "hash": "40d3a090f54c6569ab1632332b64b2c03c39dcf918b08424e98f38b5ae0af88f"
  },
  "kernelspec": {
   "display_name": "Python 3.8.3 64-bit ('base': conda)",
   "language": "python",
   "name": "python3"
  },
  "language_info": {
   "codemirror_mode": {
    "name": "ipython",
    "version": 3
   },
   "file_extension": ".py",
   "mimetype": "text/x-python",
   "name": "python",
   "nbconvert_exporter": "python",
   "pygments_lexer": "ipython3",
   "version": "3.9.7"
  },
  "orig_nbformat": 4
 },
 "nbformat": 4,
 "nbformat_minor": 2
}
