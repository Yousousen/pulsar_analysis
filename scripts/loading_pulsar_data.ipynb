{
 "cells": [
  {
   "cell_type": "code",
   "execution_count": 2,
   "metadata": {},
   "outputs": [],
   "source": [
    "import numpy as np\n",
    "import matplotlib.pyplot as plt"
   ]
  },
  {
   "cell_type": "code",
   "execution_count": 3,
   "metadata": {},
   "outputs": [],
   "source": [
    "dtype = np.dtype('float32')\n",
    "path = \"../LOFAR_2e_jaars_RP_2022_voor_studenten/Data_Pulsar1/L197621_SAP0_BEAM1_DM12.44_mask.dat\"\n",
    "#path = \"../LOFAR_2e_jaars_RP_2022_voor_studenten/Data_Pulsar1/L197621_SAP0_BEAM1_DM12.44.dat\"\n",
    "with open( path, 'rb') as f:\n",
    "    pulsar_data = np.fromfile(f, dtype)"
   ]
  },
  {
   "cell_type": "code",
   "execution_count": 31,
   "metadata": {},
   "outputs": [],
   "source": [
    "mean_calculator_interval = 2000\n",
    "for i in np.arange(0, len(pulsar_data) - mean_calculator_interval, mean_calculator_interval):\n",
    "    final_list= []\n",
    "    mean_crop = np.median(pulsar_data[i:i+mean_calculator_interval])\n",
    "    zeros1, mean_numbers, zeros2= np.zeros([i]), np.full(mean_calculator_interval, mean_crop), np.zeros([int(len(pulsar_data) - i - mean_calculator_interval)])\n",
    "    for zero in zeros1:\n",
    "        final_list.append(zero)\n",
    "    for mean in mean_numbers:\n",
    "        final_list.append(mean)\n",
    "    for zero in zeros2:\n",
    "        final_list.append(zero)\n",
    "    array = np.array(final_list)\n",
    "    pulsar_data -= array\n",
    "    "
   ]
  },
  {
   "cell_type": "code",
   "execution_count": 32,
   "metadata": {},
   "outputs": [],
   "source": [
    "dt = 0.00262143998406827\n",
    "nbins = 69120 \n",
    "total_time = nbins * dt\n",
    "time = [t*dt for t in np.arange(0, nbins)]"
   ]
  },
  {
   "cell_type": "code",
   "execution_count": 33,
   "metadata": {},
   "outputs": [
    {
     "data": {
      "text/plain": [
       "[<matplotlib.lines.Line2D at 0x7f7ff3c72fa0>]"
      ]
     },
     "execution_count": 33,
     "metadata": {},
     "output_type": "execute_result"
    },
    {
     "data": {
      "image/png": "[encoded data removed]",
      "text/plain": [
       "<Figure size 432x288 with 1 Axes>"
      ]
     },
     "metadata": {
      "needs_background": "light"
     },
     "output_type": "display_data"
    }
   ],
   "source": [
    "plt.plot(pulsar_data)"
   ]
  },
  {
   "cell_type": "code",
   "execution_count": 8,
   "metadata": {},
   "outputs": [],
   "source": [
    "# Some utility functions.\n",
    "\n",
    "def short_list(lst):\n",
    "    \"\"\"\n",
    "    Returns a string that is a short representation of list lst; useful for long lists.\n",
    "    \"\"\"\n",
    "    if len(lst) >= 4:\n",
    "        return f\"{lst[0]},\\t{lst[1]},\\t...\\t,{lst[-1]},\\t{lst[-2]}\"\n",
    "    return lst"
   ]
  },
  {
   "cell_type": "code",
   "execution_count": 9,
   "metadata": {},
   "outputs": [],
   "source": [
    "def elements_containing_string(search_query, lst):\n",
    "    \"\"\"\n",
    "    This function exists to prevent repeatingly writing the (unreadable) list\n",
    "    comprehension it returns to find the elements of the list that contain the\n",
    "    search_query.\n",
    "    \"\"\"\n",
    "    return [x for x in lst if x.lower().find(search_query.strip().lower()) != -1]"
   ]
  },
  {
   "cell_type": "code",
   "execution_count": 10,
   "metadata": {},
   "outputs": [],
   "source": [
    "def contains_substring(str, sub_str):\n",
    "    \"\"\"\n",
    "    More readable syntax for checking if a string contains a substring.\n",
    "    \"\"\"\n",
    "    return str.lower().find(sub_str.strip().lower()) != -1"
   ]
  },
  {
   "cell_type": "code",
   "execution_count": 11,
   "metadata": {},
   "outputs": [],
   "source": [
    "def slice_string_at_char(str, char):\n",
    "    \"\"\"\n",
    "    Returns a list of strings splitted on char.\n",
    "    \"\"\"\n",
    "    return str.split(char)"
   ]
  },
  {
   "cell_type": "code",
   "execution_count": 63,
   "metadata": {},
   "outputs": [],
   "source": [
    "def get_metadata_item(metadata, item):\n",
    "    return slice_string_at_char(elements_containing_string(item, metadata)[0], '=')[1]"
   ]
  },
  {
   "cell_type": "code",
   "execution_count": 64,
   "metadata": {},
   "outputs": [
    {
     "data": {
      "text/plain": [
       "' Data file name without suffix          =  L197621_SAP0_BEAM1_DM12.44_Mask\\n,\\t Telescope used                         =  LOFAR\\n,\\t...\\t,\\n,\\t\\n'"
      ]
     },
     "execution_count": 64,
     "metadata": {},
     "output_type": "execute_result"
    }
   ],
   "source": [
    "metadata_path = '../LOFAR_2e_jaars_RP_2022_voor_studenten/Data_Pulsar1/L197621_SAP0_BEAM1_DM12.44_Mask.inf'\n",
    "#metadata_path = '../LOFAR_2e_jaars_RP_2022_voor_studenten/Data_Pulsar1/L197621_SAP0_BEAM1_DM12.44.inf'\n",
    "with open(metadata_path) as f:\n",
    "    metadata = f.readlines()\n",
    "\n",
    "short_list(metadata)"
   ]
  },
  {
   "cell_type": "code",
   "execution_count": 65,
   "metadata": {},
   "outputs": [
    {
     "name": "stdout",
     "output_type": "stream",
     "text": [
      "69120\n",
      "0.00262143998406827\n"
     ]
    }
   ],
   "source": [
    "nbins = int(get_metadata_item(metadata, 'Number of bins in the time series'))\n",
    "dt = float(get_metadata_item(metadata, 'Width of each time series bin (sec)'))\n",
    "print(nbins)\n",
    "print(dt)"
   ]
  },
  {
   "cell_type": "code",
   "execution_count": 60,
   "metadata": {},
   "outputs": [],
   "source": [
    "#time_count = len(time_array) // 2 # Division by 2 will remove the sampling frequency.\n",
    "#transform = np.fft.fft(signal)/ len(signal)\n",
    "#print( len(transform) )\n",
    "#transform = transform[range(time_count)] # Exclude sampling frequency\n",
    "#print( len(transform) )"
   ]
  },
  {
   "cell_type": "code",
   "execution_count": 61,
   "metadata": {},
   "outputs": [
    {
     "data": {
      "text/plain": [
       "(0.0, 209.80255598842447)"
      ]
     },
     "execution_count": 61,
     "metadata": {},
     "output_type": "execute_result"
    },
    {
     "data": {
      "image/png": "[encoded data removed]",
      "text/plain": [
       "<Figure size 432x288 with 1 Axes>"
      ]
     },
     "metadata": {
      "needs_background": "light"
     },
     "output_type": "display_data"
    }
   ],
   "source": [
    "frequencies  = np.fft.fftfreq(nbins, dt)\n",
    "transform = np.fft.fft(pulsar_data) / len(pulsar_data) # normalize the transform.\n",
    "plt.plot(frequencies[1:], abs(transform[1:]))\n",
    "plt.xlim(0) # to remove the symmetry from the plot.\n",
    "\n",
    "#frequencies  = np.fft.fftfreq(nbins // 2, dt)\n",
    "#transform = np.fft.fft(pulsar_data) / len(pulsar_data) # normalize the transform.\n",
    "#transform = transform[ range(nbins // 2) ]\n",
    "#plt.plot(frequencies[1:], abs(transform[1:]))"
   ]
  },
  {
   "cell_type": "markdown",
   "metadata": {},
   "source": [
    "forget about the following calculation; we do it with fftfreq."
   ]
  },
  {
   "cell_type": "code",
   "execution_count": 17,
   "metadata": {},
   "outputs": [
    {
     "name": "stdout",
     "output_type": "stream",
     "text": [
      "True\n"
     ]
    },
    {
     "data": {
      "text/plain": [
       "181.19393169879882"
      ]
     },
     "execution_count": 17,
     "metadata": {},
     "output_type": "execute_result"
    }
   ],
   "source": [
    "print( nbins == len(pulsar_data) )\n",
    "nbins = len(pulsar_data)\n",
    "total_time = dt * nbins\n",
    "total_time"
   ]
  },
  {
   "cell_type": "code",
   "execution_count": 18,
   "metadata": {},
   "outputs": [
    {
     "data": {
      "text/plain": [
       "0.005518948623855206"
      ]
     },
     "execution_count": 18,
     "metadata": {},
     "output_type": "execute_result"
    }
   ],
   "source": [
    "dnu = 1 / total_time\n",
    "dnu"
   ]
  },
  {
   "cell_type": "markdown",
   "metadata": {},
   "source": [
    "Alternative calculation using built-in fftfreq of numpy. "
   ]
  },
  {
   "cell_type": "code",
   "execution_count": 19,
   "metadata": {},
   "outputs": [],
   "source": [
    "from scipy.signal import find_peaks\n",
    "height_threshold = 5000 # Just reading off an apprpriate value from the graph\n",
    "peaks_index, properties = find_peaks(np.abs(transform), height=height_threshold)"
   ]
  },
  {
   "cell_type": "code",
   "execution_count": 20,
   "metadata": {},
   "outputs": [
    {
     "name": "stdout",
     "output_type": "stream",
     "text": [
      "0.02759474311927603,\t0.7450580642204528,\t...\t,-0.02759474311927603,\t-0.7450580642204528\n",
      "44\n"
     ]
    }
   ],
   "source": [
    "peaks_index\n",
    "peak_frequencies = [frequencies[i] for i in peaks_index]\n",
    "print(short_list(peak_frequencies))\n",
    "print(len(peak_frequencies))"
   ]
  },
  {
   "cell_type": "code",
   "execution_count": 92,
   "metadata": {},
   "outputs": [
    {
     "data": {
      "text/plain": [
       "(0.0, 209.80255598842447)"
      ]
     },
     "execution_count": 92,
     "metadata": {},
     "output_type": "execute_result"
    },
    {
     "data": {
      "image/png": "[encoded data removed]",
      "text/plain": [
       "<Figure size 432x288 with 1 Axes>"
      ]
     },
     "metadata": {
      "needs_background": "light"
     },
     "output_type": "display_data"
    }
   ],
   "source": [
    "%matplotlib inline\n",
    "# Just change the height threshold above if we want less peaks to be marked.\n",
    "plt.plot(frequencies[1:], np.abs(transform[1:]),'-', frequencies[peaks_index],properties['peak_heights'],'x')\n",
    "plt.xlim(0)\n",
    "#plt.ylim(0,10 ** 9)"
   ]
  },
  {
   "cell_type": "code",
   "execution_count": 93,
   "metadata": {},
   "outputs": [
    {
     "data": {
      "text/plain": [
       "array([    5,   135,   271,   406,   542,   677,   813,   948,  1084,\n",
       "        1219,  1355,  1490,  1626,  1761,  1897,  2032,  2168,  2303,\n",
       "        2439,  2574,  2710,  2981, 66139, 66410, 66546, 66681, 66817,\n",
       "       66952, 67088, 67223, 67359, 67494, 67630, 67765, 67901, 68036,\n",
       "       68172, 68307, 68443, 68578, 68714, 68849, 68985, 69115])"
      ]
     },
     "execution_count": 93,
     "metadata": {},
     "output_type": "execute_result"
    }
   ],
   "source": [
    "#period = 0.7450580642204528 ** -1 * 1 # TODO: Automize this and make this more accurate.\n",
    "\n",
    "counter = -1\n",
    "list_frequences_harmonics = []\n",
    "for index in peaks_index:\n",
    "    counter += 1\n",
    "    if counter ==0:\n",
    "        freq = frequencies[index]\n",
    "    else:\n",
    "        freq = frequencies[index]/counter\n",
    "    list_frequences_harmonics.append(freq)\n",
    "\n",
    "final_period = np.mean(list_frequences_harmonics[1:20])\n",
    "period = final_period ** -1\n",
    "list_frequences_harmonics\n",
    "peaks_index"
   ]
  },
  {
   "cell_type": "markdown",
   "metadata": {},
   "source": [
    "## stacking"
   ]
  },
  {
   "cell_type": "code",
   "execution_count": 83,
   "metadata": {},
   "outputs": [
    {
     "name": "stdout",
     "output_type": "stream",
     "text": [
      "510\n"
     ]
    },
    {
     "data": {
      "text/plain": [
       "136"
      ]
     },
     "execution_count": 83,
     "metadata": {},
     "output_type": "execute_result"
    }
   ],
   "source": [
    "\n",
    "period_in_index = int(period // dt) # TODO: Can we get this int thing away?? i cannot because it needs to be used as index for list\n",
    "print(period_in_index)\n",
    "stack_dict = dict()\n",
    "i = 0\n",
    "while i <= nbins:\n",
    "    stack_dict[f\"stack{i // period_in_index}\"] = np.array( pulsar_data[i:i+period_in_index])\n",
    "    i += period_in_index\n",
    "len(stack_dict)"
   ]
  },
  {
   "cell_type": "code",
   "execution_count": 84,
   "metadata": {},
   "outputs": [
    {
     "name": "stdout",
     "output_type": "stream",
     "text": [
      "Length of the dictionary element stack135 is not 510. Did you expect this?\n"
     ]
    },
    {
     "data": {
      "text/plain": [
       "True"
      ]
     },
     "execution_count": 84,
     "metadata": {},
     "output_type": "execute_result"
    }
   ],
   "source": [
    "stack = np.zeros(period_in_index) # initializing with zeroes to get the correct stack size.\n",
    "for key, val in stack_dict.items():\n",
    "    if ( length := len(val) ) != period_in_index: # This happens at the end.\n",
    "        print(f'Length of the dictionary element {key} is not {period_in_index}. Did you expect this?')\n",
    "        stack += np.append(val, np.zeros(period_in_index - length )) # fill with zeroes to keep the same size.\n",
    "    else:\n",
    "        stack += val\n",
    "len(stack) == period_in_index"
   ]
  },
  {
   "cell_type": "code",
   "execution_count": 85,
   "metadata": {},
   "outputs": [
    {
     "data": {
      "text/plain": [
       "Text(0.5, 1.0, 'graph of an addition of signals of the first radio pulsar ever found.')"
      ]
     },
     "execution_count": 85,
     "metadata": {},
     "output_type": "execute_result"
    },
    {
     "data": {
      "image/png": "[encoded data removed]",
      "text/plain": [
       "<Figure size 432x288 with 1 Axes>"
      ]
     },
     "metadata": {
      "needs_background": "light"
     },
     "output_type": "display_data"
    }
   ],
   "source": [
    "plt.plot([ dt * t for t in range(len(stack))], stack, color='magenta')\n",
    "plt.xlabel('time (s)')\n",
    "plt.ylabel('intensity')\n",
    "plt.title('graph of an addition of signals of the first radio pulsar ever found.')"
   ]
  },
  {
   "cell_type": "code",
   "execution_count": 106,
   "metadata": {},
   "outputs": [
    {
     "data": {
      "image/png": "[encoded data removed]",
      "text/plain": [
       "<Figure size 432x288 with 1 Axes>"
      ]
     },
     "metadata": {
      "needs_background": "light"
     },
     "output_type": "display_data"
    }
   ],
   "source": [
    "for i, val in enumerate ( stack_dict.values() ) :\n",
    "    offset = i * 0.16 * 10 **6\n",
    "    plt.plot(stack_dict[f'stack{i}'] + offset, color='black') \n",
    "    plt.xlim(380,440)"
   ]
  },
  {
   "cell_type": "markdown",
   "metadata": {},
   "source": [
    "## Data of Hessel's pulsar"
   ]
  },
  {
   "cell_type": "markdown",
   "metadata": {},
   "source": [
    "This data consists of multiple seperate files, so we have to load them all in with their metadata."
   ]
  },
  {
   "cell_type": "code",
   "execution_count": 27,
   "metadata": {},
   "outputs": [],
   "source": [
    "import os\n",
    "import glob\n",
    "from pathlib import Path\n",
    "\n",
    "def import_files(path, dtype):\n",
    "    '''\n",
    "    Import files in the syntax that I used in the notebook. That is, choose the path that contains\n",
    "    all the files, then obtain all dat and inf files as dictionaries that can be accessed by filename. \n",
    "    '''\n",
    "\n",
    "    filename = \"*.dat\"\n",
    "    files =  [ p for p in Path(path).glob(filename) ]\n",
    "    file_dict = dict()\n",
    "    for file in files:\n",
    "        with open(file, 'rb') as f:\n",
    "            # key of the dict is the filename, value the data.\n",
    "            file_dict[os.path.basename(file)] = np.fromfile(f, np.float32)\n",
    "\n",
    "    metadata_dict = dict()\n",
    "    filename = \"*.inf\"\n",
    "    files =  [ p for p in Path(path).glob(filename) ]\n",
    "    for file in files:\n",
    "        with open(file) as f:\n",
    "            metadata_dict[os.path.basename(file)] = f.readlines()\n",
    "\n",
    "    return file_dict, metadata_dict \n"
   ]
  },
  {
   "cell_type": "code",
   "execution_count": 28,
   "metadata": {},
   "outputs": [],
   "source": [
    "data_dict, metadata_dict = import_files(path=\"../LOFAR_2e_jaars_RP_2022_voor_studenten/Data_Pulsar2\", dtype=\"float32\")"
   ]
  },
  {
   "cell_type": "code",
   "execution_count": 29,
   "metadata": {},
   "outputs": [
    {
     "name": "stdout",
     "output_type": "stream",
     "text": [
      "43037.0,\t43082.0,\t...\t,44427.1015625,\t44427.1015625\n",
      " Data file name without suffix          =  L83079_SAP0_BEAM0_DM39.66\n",
      ",\t Telescope used                         =  LOFAR\n",
      ",\t...\t,\n",
      ",\t\n",
      "\n"
     ]
    }
   ],
   "source": [
    "print(short_list(data_dict['L83079_SAP0_BEAM0_DM39.66.dat']))\n",
    "print(short_list(metadata_dict['L83079_SAP0_BEAM0_DM39.66.inf']))"
   ]
  },
  {
   "cell_type": "code",
   "execution_count": 30,
   "metadata": {},
   "outputs": [
    {
     "data": {
      "text/plain": [
       "[' Data file name without suffix          =  L83029_SAP0_BEAM0_DM39.66\\n',\n",
       " ' Telescope used                         =  LOFAR\\n',\n",
       " ' Instrument used                        =  HBA_110_190\\n',\n",
       " ' Object being observed                  =  J1810+1715\\n',\n",
       " ' J2000 Right Ascension (hh:mm:ss.ssss)  =  18:10:37.0000\\n',\n",
       " ' J2000 Declination     (dd:mm:ss.ssss)  =  17:44:37.0000\\n',\n",
       " ' Data observed by                       =  Unknown\\n',\n",
       " ' Epoch of observation (MJD)             =  56299.364628335424641\\n',\n",
       " ' Barycentered?           (1 yes, 0 no)  =  1\\n',\n",
       " ' Number of bins in the time series      =  8800000    \\n',\n",
       " ' Width of each time series bin (sec)    =  2.04799998755334e-05\\n',\n",
       " ' Any breaks in the data? (1 yes, 0 no)  =  1\\n',\n",
       " ' On/Off bin pair #  1                   =  0          , 8467354    \\n',\n",
       " ' On/Off bin pair #  2                   =  8799999    , 8799999    \\n',\n",
       " ' Type of observation (EM band)          =  Radio\\n',\n",
       " ' Beam diameter (arcsec)                 =  0\\n',\n",
       " ' Dispersion measure (cm-3 pc)           =  39.66\\n',\n",
       " ' Central freq of low channel (MHz)      =  109.9609375\\n',\n",
       " ' Total bandwidth (MHz)                  =  68.359375\\n',\n",
       " ' Number of channels                     =  350\\n',\n",
       " ' Channel bandwidth (MHz)                =  0.1953125\\n',\n",
       " ' Data analyzed by                       =  hessels\\n',\n",
       " ' Any additional notes:\\n',\n",
       " '    Project ID , Date: 2013-01-07T08:50:00.\\n',\n",
       " '    1 polns were not summed.  Samples have 8 bits.\\n',\n",
       " '\\n',\n",
       " '\\n']"
      ]
     },
     "execution_count": 30,
     "metadata": {},
     "output_type": "execute_result"
    }
   ],
   "source": [
    "metadata_dict['L83029_SAP0_BEAM0_DM39.66.inf']"
   ]
  },
  {
   "cell_type": "code",
   "execution_count": 31,
   "metadata": {},
   "outputs": [
    {
     "data": {
      "text/plain": [
       "[' Data file name without suffix          =  L83061_SAP0_BEAM0_DM39.66\\n',\n",
       " ' Telescope used                         =  LOFAR\\n',\n",
       " ' Instrument used                        =  HBA_110_190\\n',\n",
       " ' Object being observed                  =  J1810+1715\\n',\n",
       " ' J2000 Right Ascension (hh:mm:ss.ssss)  =  18:10:37.0000\\n',\n",
       " ' J2000 Declination     (dd:mm:ss.ssss)  =  17:44:37.0000\\n',\n",
       " ' Data observed by                       =  Unknown\\n',\n",
       " ' Epoch of observation (MJD)             =  56299.619493978832907\\n',\n",
       " ' Barycentered?           (1 yes, 0 no)  =  1\\n',\n",
       " ' Number of bins in the time series      =  8800000    \\n',\n",
       " ' Width of each time series bin (sec)    =  2.04799998755334e-05\\n',\n",
       " ' Any breaks in the data? (1 yes, 0 no)  =  1\\n',\n",
       " ' On/Off bin pair #  1                   =  0          , 8467346    \\n',\n",
       " ' On/Off bin pair #  2                   =  8799999    , 8799999    \\n',\n",
       " ' Type of observation (EM band)          =  Radio\\n',\n",
       " ' Beam diameter (arcsec)                 =  0\\n',\n",
       " ' Dispersion measure (cm-3 pc)           =  39.66\\n',\n",
       " ' Central freq of low channel (MHz)      =  109.9609375\\n',\n",
       " ' Total bandwidth (MHz)                  =  68.359375\\n',\n",
       " ' Number of channels                     =  350\\n',\n",
       " ' Channel bandwidth (MHz)                =  0.1953125\\n',\n",
       " ' Data analyzed by                       =  hessels\\n',\n",
       " ' Any additional notes:\\n',\n",
       " '    Project ID , Date: 2013-01-07T14:57:00.\\n',\n",
       " '    1 polns were not summed.  Samples have 8 bits.\\n',\n",
       " '\\n',\n",
       " '\\n']"
      ]
     },
     "execution_count": 31,
     "metadata": {},
     "output_type": "execute_result"
    }
   ],
   "source": [
    "metadata_dict['L83061_SAP0_BEAM0_DM39.66.inf']"
   ]
  },
  {
   "cell_type": "code",
   "execution_count": 32,
   "metadata": {},
   "outputs": [],
   "source": [
    "nbins_dict = dict()\n",
    "dt_dict = dict()\n",
    "for key, val in metadata_dict.items():\n",
    "    nbins_dict[key] = int(get_metadata_item('Number of bins in the time series'))\n",
    "    dt_dict[key] = float(get_metadata_item('Width of each time series bin (sec)'))"
   ]
  },
  {
   "cell_type": "code",
   "execution_count": 33,
   "metadata": {},
   "outputs": [
    {
     "data": {
      "text/plain": [
       "dict_values([69120, 69120, 69120, 69120, 69120, 69120, 69120, 69120, 69120, 69120, 69120, 69120, 69120, 69120])"
      ]
     },
     "execution_count": 33,
     "metadata": {},
     "output_type": "execute_result"
    }
   ],
   "source": [
    "nbins_dict.values()"
   ]
  },
  {
   "cell_type": "code",
   "execution_count": 34,
   "metadata": {},
   "outputs": [
    {
     "data": {
      "text/plain": [
       "dict_values([0.00262143998406827, 0.00262143998406827, 0.00262143998406827, 0.00262143998406827, 0.00262143998406827, 0.00262143998406827, 0.00262143998406827, 0.00262143998406827, 0.00262143998406827, 0.00262143998406827, 0.00262143998406827, 0.00262143998406827, 0.00262143998406827, 0.00262143998406827])"
      ]
     },
     "execution_count": 34,
     "metadata": {},
     "output_type": "execute_result"
    }
   ],
   "source": [
    "dt_dict.values()"
   ]
  }
 ],
 "metadata": {
  "interpreter": {
   "hash": "40d3a090f54c6569ab1632332b64b2c03c39dcf918b08424e98f38b5ae0af88f"
  },
  "kernelspec": {
   "display_name": "Python 3.8.3 64-bit ('base': conda)",
   "language": "python",
   "name": "python3"
  },
  "language_info": {
   "codemirror_mode": {
    "name": "ipython",
    "version": 3
   },
   "file_extension": ".py",
   "mimetype": "text/x-python",
   "name": "python",
   "nbconvert_exporter": "python",
   "pygments_lexer": "ipython3",
   "version": "3.8.3"
  },
  "orig_nbformat": 4
 },
 "nbformat": 4,
 "nbformat_minor": 2
}
