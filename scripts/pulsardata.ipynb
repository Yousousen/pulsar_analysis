{
 "cells": [
  {
   "cell_type": "code",
   "execution_count": 2,
   "metadata": {},
   "outputs": [],
   "source": [
    "import numpy as np"
   ]
  },
  {
   "cell_type": "code",
   "execution_count": 3,
   "metadata": {},
   "outputs": [],
   "source": [
    "path = \"../LOFAR_2e_jaars_RP_2022_voor_studenten/Data_Pulsar1/L197621_SAP0_BEAM1_DM12.44.dat\""
   ]
  },
  {
   "cell_type": "code",
   "execution_count": 6,
   "metadata": {},
   "outputs": [],
   "source": [
    "# NOTE: does not work\n",
    "#data = np.genfromtxt(path, skip_header=1,\n",
    "                     #skip_footer=1,\n",
    "                     #names=True,\n",
    "                     #dtype=None,\n",
    "                     #delimiter=' ')\n",
    "#print(data)\n",
    "# Output: [(1, 4, 6, 8, 3) (4, 5, 6, 8, 9) (2, 3, 6, 8, 5)]"
   ]
  },
  {
   "cell_type": "code",
   "execution_count": 7,
   "metadata": {},
   "outputs": [],
   "source": [
    "# NOTE: Does not work as expected\n",
    "# We open the file in binary mode.\n",
    "#with open(path, 'rb') as f:\n",
    "#    while True:\n",
    "#        chunk = f.read(160036) # that is record size as per LBL file\n",
    "#            # because the file is huge it will expect to hit Enter\n",
    "#            # to display next chunk. Use Ctrl+C to interrupt\n",
    "#        print(chunk)\n",
    "#        input('Hit Enter...')"
   ]
  },
  {
   "cell_type": "code",
   "execution_count": null,
   "metadata": {},
   "outputs": [],
   "source": []
  }
 ],
 "metadata": {
  "interpreter": {
   "hash": "9295da5068cda9cd4a14b172873b2c7fce6c9388510d927d8ee80a52eb5ed8bb"
  },
  "kernelspec": {
   "display_name": "Python 3.9.7 64-bit ('pulsar': conda)",
   "language": "python",
   "name": "python3"
  },
  "language_info": {
   "codemirror_mode": {
    "name": "ipython",
    "version": 3
   },
   "file_extension": ".py",
   "mimetype": "text/x-python",
   "name": "python",
   "nbconvert_exporter": "python",
   "pygments_lexer": "ipython3",
   "version": "3.9.7"
  },
  "orig_nbformat": 4
 },
 "nbformat": 4,
 "nbformat_minor": 2
}
