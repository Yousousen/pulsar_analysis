{
 "cells": [
  {
   "cell_type": "markdown",
   "metadata": {},
   "source": [
    "## Data of Hessel's pulsar"
   ]
  },
  {
   "cell_type": "markdown",
   "metadata": {},
   "source": [
    "This data consists of multiple seperate files, so we have to load them all in with their metadata."
   ]
  },
  {
   "cell_type": "code",
   "execution_count": 14,
   "metadata": {},
   "outputs": [
    {
     "data": {
      "text/plain": [
       "'1,\\t2,\\t...\\t,5,\\t4'"
      ]
     },
     "execution_count": 14,
     "metadata": {},
     "output_type": "execute_result"
    }
   ],
   "source": [
    "import os\n",
    "import sys\n",
    "import glob\n",
    "from pathlib import Path\n",
    "import numpy as np\n",
    "import matplotlib.pyplot as plt\n",
    "import nbimporter\n",
    "from loading_pulsar_data import short_list, elements_containing_string, contains_substring, slice_string_at_char, get_metadata_item\n",
    "\n",
    "def import_files(path, dtype):\n",
    "    '''\n",
    "    Import files in the syntax that I used in the notebook. That is, choose the path that contains\n",
    "    all the files, then obtain all dat and inf files as dictionaries that can be accessed by filename. \n",
    "    '''\n",
    "\n",
    "    filename = \"*.dat\"\n",
    "    files =  [ p for p in Path(path).glob(filename) ]\n",
    "    file_dict = dict()\n",
    "    for file in files:\n",
    "        with open(file, 'rb') as f:\n",
    "            # key of the dict is the filename, value the data.\n",
    "            file_dict[os.path.basename(file)] = np.fromfile(f, np.float32)\n",
    "\n",
    "    metadata_dict = dict()\n",
    "    filename = \"*.inf\"\n",
    "    files =  [ p for p in Path(path).glob(filename) ]\n",
    "    for file in files:\n",
    "        with open(file) as f:\n",
    "            metadata_dict[os.path.basename(file)] = f.readlines()\n",
    "\n",
    "    return file_dict, metadata_dict \n",
    "\n",
    "\n",
    "list= [1,2,3,4,5]\n",
    "short_list(list)\n",
    "\n"
   ]
  },
  {
   "cell_type": "code",
   "execution_count": 26,
   "metadata": {},
   "outputs": [],
   "source": [
    "data_dict, metadata_dict = import_files(path=\"../LOFAR_2e_jaars_RP_2022_voor_studenten/Data_Pulsar2\", dtype=\"float32\")"
   ]
  },
  {
   "cell_type": "code",
   "execution_count": 27,
   "metadata": {},
   "outputs": [
    {
     "name": "stdout",
     "output_type": "stream",
     "text": [
      "43037.0,\t43082.0,\t...\t,44427.1015625,\t44427.1015625\n",
      " Data file name without suffix          =  L83079_SAP0_BEAM0_DM39.66\n",
      ",\t Telescope used                         =  LOFAR\n",
      ",\t...\t,\n",
      ",\t\n",
      "\n"
     ]
    }
   ],
   "source": [
    "print(short_list(data_dict['L83079_SAP0_BEAM0_DM39.66.dat']))\n",
    "print(short_list(metadata_dict['L83079_SAP0_BEAM0_DM39.66.inf']))"
   ]
  },
  {
   "cell_type": "code",
   "execution_count": 28,
   "metadata": {},
   "outputs": [
    {
     "data": {
      "text/plain": [
       "[' Data file name without suffix          =  L83029_SAP0_BEAM0_DM39.66\\n',\n",
       " ' Telescope used                         =  LOFAR\\n',\n",
       " ' Instrument used                        =  HBA_110_190\\n',\n",
       " ' Object being observed                  =  J1810+1715\\n',\n",
       " ' J2000 Right Ascension (hh:mm:ss.ssss)  =  18:10:37.0000\\n',\n",
       " ' J2000 Declination     (dd:mm:ss.ssss)  =  17:44:37.0000\\n',\n",
       " ' Data observed by                       =  Unknown\\n',\n",
       " ' Epoch of observation (MJD)             =  56299.364628335424641\\n',\n",
       " ' Barycentered?           (1 yes, 0 no)  =  1\\n',\n",
       " ' Number of bins in the time series      =  8800000    \\n',\n",
       " ' Width of each time series bin (sec)    =  2.04799998755334e-05\\n',\n",
       " ' Any breaks in the data? (1 yes, 0 no)  =  1\\n',\n",
       " ' On/Off bin pair #  1                   =  0          , 8467354    \\n',\n",
       " ' On/Off bin pair #  2                   =  8799999    , 8799999    \\n',\n",
       " ' Type of observation (EM band)          =  Radio\\n',\n",
       " ' Beam diameter (arcsec)                 =  0\\n',\n",
       " ' Dispersion measure (cm-3 pc)           =  39.66\\n',\n",
       " ' Central freq of low channel (MHz)      =  109.9609375\\n',\n",
       " ' Total bandwidth (MHz)                  =  68.359375\\n',\n",
       " ' Number of channels                     =  350\\n',\n",
       " ' Channel bandwidth (MHz)                =  0.1953125\\n',\n",
       " ' Data analyzed by                       =  hessels\\n',\n",
       " ' Any additional notes:\\n',\n",
       " '    Project ID , Date: 2013-01-07T08:50:00.\\n',\n",
       " '    1 polns were not summed.  Samples have 8 bits.\\n',\n",
       " '\\n',\n",
       " '\\n']"
      ]
     },
     "execution_count": 28,
     "metadata": {},
     "output_type": "execute_result"
    }
   ],
   "source": [
    "metadata_dict['L83029_SAP0_BEAM0_DM39.66.inf']"
   ]
  },
  {
   "cell_type": "code",
   "execution_count": 29,
   "metadata": {},
   "outputs": [
    {
     "data": {
      "text/plain": [
       "[' Data file name without suffix          =  L83061_SAP0_BEAM0_DM39.66\\n',\n",
       " ' Telescope used                         =  LOFAR\\n',\n",
       " ' Instrument used                        =  HBA_110_190\\n',\n",
       " ' Object being observed                  =  J1810+1715\\n',\n",
       " ' J2000 Right Ascension (hh:mm:ss.ssss)  =  18:10:37.0000\\n',\n",
       " ' J2000 Declination     (dd:mm:ss.ssss)  =  17:44:37.0000\\n',\n",
       " ' Data observed by                       =  Unknown\\n',\n",
       " ' Epoch of observation (MJD)             =  56299.619493978832907\\n',\n",
       " ' Barycentered?           (1 yes, 0 no)  =  1\\n',\n",
       " ' Number of bins in the time series      =  8800000    \\n',\n",
       " ' Width of each time series bin (sec)    =  2.04799998755334e-05\\n',\n",
       " ' Any breaks in the data? (1 yes, 0 no)  =  1\\n',\n",
       " ' On/Off bin pair #  1                   =  0          , 8467346    \\n',\n",
       " ' On/Off bin pair #  2                   =  8799999    , 8799999    \\n',\n",
       " ' Type of observation (EM band)          =  Radio\\n',\n",
       " ' Beam diameter (arcsec)                 =  0\\n',\n",
       " ' Dispersion measure (cm-3 pc)           =  39.66\\n',\n",
       " ' Central freq of low channel (MHz)      =  109.9609375\\n',\n",
       " ' Total bandwidth (MHz)                  =  68.359375\\n',\n",
       " ' Number of channels                     =  350\\n',\n",
       " ' Channel bandwidth (MHz)                =  0.1953125\\n',\n",
       " ' Data analyzed by                       =  hessels\\n',\n",
       " ' Any additional notes:\\n',\n",
       " '    Project ID , Date: 2013-01-07T14:57:00.\\n',\n",
       " '    1 polns were not summed.  Samples have 8 bits.\\n',\n",
       " '\\n',\n",
       " '\\n']"
      ]
     },
     "execution_count": 29,
     "metadata": {},
     "output_type": "execute_result"
    }
   ],
   "source": [
    "metadata_dict['L83061_SAP0_BEAM0_DM39.66.inf']"
   ]
  },
  {
   "cell_type": "code",
   "execution_count": 30,
   "metadata": {},
   "outputs": [],
   "source": [
    "nbins_dict = dict()\n",
    "dt_dict = dict()\n",
    "for key, val in metadata_dict.items():\n",
    "    nbins_dict[key] = int(get_metadata_item('Number of bins in the time series'))\n",
    "    dt_dict[key] = float(get_metadata_item('Width of each time series bin (sec)'))"
   ]
  },
  {
   "cell_type": "code",
   "execution_count": 31,
   "metadata": {},
   "outputs": [
    {
     "data": {
      "text/plain": [
       "dict_values([69120, 69120, 69120, 69120, 69120, 69120, 69120, 69120, 69120, 69120, 69120, 69120, 69120, 69120])"
      ]
     },
     "execution_count": 31,
     "metadata": {},
     "output_type": "execute_result"
    }
   ],
   "source": [
    "nbins_dict.values()"
   ]
  },
  {
   "cell_type": "code",
   "execution_count": 32,
   "metadata": {},
   "outputs": [
    {
     "data": {
      "text/plain": [
       "dict_values([0.00262143998406827, 0.00262143998406827, 0.00262143998406827, 0.00262143998406827, 0.00262143998406827, 0.00262143998406827, 0.00262143998406827, 0.00262143998406827, 0.00262143998406827, 0.00262143998406827, 0.00262143998406827, 0.00262143998406827, 0.00262143998406827, 0.00262143998406827])"
      ]
     },
     "execution_count": 32,
     "metadata": {},
     "output_type": "execute_result"
    }
   ],
   "source": [
    "dt_dict.values()"
   ]
  }
 ],
 "metadata": {
  "interpreter": {
   "hash": "40d3a090f54c6569ab1632332b64b2c03c39dcf918b08424e98f38b5ae0af88f"
  },
  "kernelspec": {
   "display_name": "Python 3.8.3 64-bit ('base': conda)",
   "language": "python",
   "name": "python3"
  },
  "language_info": {
   "codemirror_mode": {
    "name": "ipython",
    "version": 3
   },
   "file_extension": ".py",
   "mimetype": "text/x-python",
   "name": "python",
   "nbconvert_exporter": "python",
   "pygments_lexer": "ipython3",
   "version": "3.8.3"
  },
  "orig_nbformat": 4
 },
 "nbformat": 4,
 "nbformat_minor": 2
}
